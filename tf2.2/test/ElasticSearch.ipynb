{
 "cells": [
  {
   "cell_type": "markdown",
   "metadata": {},
   "source": [
    "# ES"
   ]
  },
  {
   "cell_type": "markdown",
   "metadata": {},
   "source": [
    "## 一、ElasticSearch简介\n",
    "### 1.1、Elasticsearch\n",
    "Elasticsearch是一个基于Apache Lucene(TM)的开源搜索引擎。无论在开源还是专有领域，Lucene可以被认为是迄今为止最先进、性能最好的、功能最全的搜索引擎库。\n",
    "特点：\n",
    "\t分布式的实时文件存储，每个字段都被索引并可被搜索\n",
    "\t分布式的实时分析搜索引擎--做不规则查询\n",
    "\t可以扩展到上百台服务器，处理PB级结构化或非结构化数据\n",
    "Elasticsearch也使用Java开发并使用Lucene作为其核心来实现所有索引和搜索的功能，但是它的目的是通过简单的RESTful API来隐藏Lucene的复杂性，从而让全文搜索变得简单。\n",
    "\n",
    "ES能做什么？\n",
    "全文检索（全部字段）、模糊查询（搜索）、数据分析（提供分析语法，例如聚合）\n",
    "### 1.2、Elasticsearch使用案例\n",
    "（1）2013年初，GitHub抛弃了Solr，采取ElasticSearch 来做PB级的搜索。 “GitHub使用ElasticSearch搜索20TB的数据，包括13亿文件和1300亿行代码”\n",
    "（2）维基百科：启动以elasticsearch为基础的核心搜索架构SoundCloud：“SoundCloud使用ElasticSearch为1.8亿用户提供即时而精准的音乐搜索服务”\n",
    "（3）百度：百度目前广泛使用ElasticSearch作为文本数据分析，采集百度所有服务器上的各类指标数据及用户自定义数据，通过对各种数据进行多维分析展示，辅助定位分析实例异常或业务层面异常。目前覆盖百度内部20多个业务线（包括casio、云分析、网盟、预测、文库、直达号、钱包、风控等），单集群最大100台机器，200个ES节点，每天导入30TB+数据\n",
    "（4）新浪使用ES 分析处理32亿条实时日志\n",
    "（5）阿里使用ES 构建挖财自己的日志采集和分析体系\n",
    "### 1.3、同类产品\n",
    "Solr、ElasticSearch、Hermes（腾讯）（实时检索分析） Solr、ES\n",
    "1. 源自搜索引擎，侧重搜索与全文检索。\n",
    "2. 数据规模从几百万到千万不等，数据量过亿的集群特别少。\n",
    "有可能存在个别系统数据量过亿，但这并不是普遍现象（就像Oracle的表里的数据规模有可能超过Hive里一样，但需要小型机）。\n",
    "λ\tHermes\n",
    "1. 一个基于大索引技术的海量数据实时检索分析平台。侧重数据分析。\n",
    "2. 数据规模从几亿到万亿不等。最小的表也是千万级别。\n",
    "在 腾讯17 台TS5机器，就可以处理每天450亿的数据(每条数据1kb左右)，数据可以保存一个月之久。\n",
    "λ\tSolr、ES区别\n",
    "全文检索、搜索、分析。基于lucene\n",
    "\n",
    "Solr 利用 Zookeeper 进行分布式管理，而 Elasticsearch 自身带有分布式协调管理功能;\n",
    "Solr 支持更多格式的数据，而 Elasticsearch 仅支持json文件格式；\n",
    "Solr 官方提供的功能更多，而 Elasticsearch 本身更注重于核心功能，高级功能多有第三方插件提供；\n",
    "Solr 在传统的搜索应用中表现好于 Elasticsearch，但在处理实时搜索应用时效率明显低于 Elasticsearch-----附近的人\n",
    "\n",
    "Lucene是一个开放源代码的全文检索引擎工具包，但它不是一个完整的全文检索引擎，而是一个全文检索引擎的架构，提供了完整的查询引擎和索引引擎，部分文本分析引擎\n",
    "搜索引擎产品简介\n",
    "\n"
   ]
  },
  {
   "cell_type": "markdown",
   "metadata": {},
   "source": [
    "二、ElasticSearch\n",
    "2.1、准备工作\n",
    "安装Centos7、建议内存2G以上、安装java1.8环境\n",
    "2.2、基本配置\n",
    "\t设置IP地址"
   ]
  },
  {
   "cell_type": "code",
   "execution_count": null,
   "metadata": {},
   "outputs": [],
   "source": [
    "vi /etc/sysconfig/network-scripts/ifcfg-ens33"
   ]
  },
  {
   "cell_type": "code",
   "execution_count": null,
   "metadata": {},
   "outputs": [],
   "source": []
  },
  {
   "cell_type": "code",
   "execution_count": null,
   "metadata": {},
   "outputs": [],
   "source": []
  },
  {
   "cell_type": "code",
   "execution_count": null,
   "metadata": {},
   "outputs": [],
   "source": []
  },
  {
   "cell_type": "code",
   "execution_count": null,
   "metadata": {},
   "outputs": [],
   "source": []
  },
  {
   "cell_type": "code",
   "execution_count": null,
   "metadata": {},
   "outputs": [],
   "source": []
  },
  {
   "cell_type": "code",
   "execution_count": null,
   "metadata": {},
   "outputs": [],
   "source": []
  },
  {
   "cell_type": "code",
   "execution_count": null,
   "metadata": {},
   "outputs": [],
   "source": []
  },
  {
   "cell_type": "code",
   "execution_count": null,
   "metadata": {},
   "outputs": [],
   "source": []
  },
  {
   "cell_type": "code",
   "execution_count": null,
   "metadata": {},
   "outputs": [],
   "source": []
  }
 ],
 "metadata": {
  "kernelspec": {
   "display_name": "Python 3",
   "language": "python",
   "name": "python3"
  },
  "language_info": {
   "codemirror_mode": {
    "name": "ipython",
    "version": 3
   },
   "file_extension": ".py",
   "mimetype": "text/x-python",
   "name": "python",
   "nbconvert_exporter": "python",
   "pygments_lexer": "ipython3",
   "version": "3.7.3"
  }
 },
 "nbformat": 4,
 "nbformat_minor": 4
}
