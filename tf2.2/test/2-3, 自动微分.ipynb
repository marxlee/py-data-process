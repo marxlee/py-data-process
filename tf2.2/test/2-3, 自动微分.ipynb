{
 "cells": [
  {
   "cell_type": "code",
   "execution_count": 2,
   "metadata": {},
   "outputs": [],
   "source": [
    "import tensorflow as tf\n",
    "import numpy as np"
   ]
  },
  {
   "cell_type": "code",
   "execution_count": 4,
   "metadata": {},
   "outputs": [
    {
     "name": "stdout",
     "output_type": "stream",
     "text": [
      "tf.Tensor(-2.0, shape=(), dtype=float32)\n"
     ]
    }
   ],
   "source": [
    "x = tf.Variable(0., name='x', dtype=tf.float32)\n",
    "a = tf.constant(1.)\n",
    "b = tf.constant(-2.)\n",
    "c = tf.constant(1.)\n",
    "\n",
    "with tf.GradientTape() as tape:\n",
    "    y = a * tf.pow(x, 2) + b * x + c\n",
    "    \n",
    "# 导数: f`(x) = a * 2x + b  <- x = 0.0 带入\n",
    "dy_dx = tape.gradient(y, x)\n",
    "print(dy_dx) "
   ]
  },
  {
   "cell_type": "code",
   "execution_count": 6,
   "metadata": {},
   "outputs": [
    {
     "name": "stdout",
     "output_type": "stream",
     "text": [
      "tf.Tensor(-2.0, shape=(), dtype=float32) tf.Tensor(0.0, shape=(), dtype=float32) tf.Tensor(0.0, shape=(), dtype=float32) tf.Tensor(1.0, shape=(), dtype=float32)\n"
     ]
    }
   ],
   "source": [
    "# 对常量的求导 tape.watch\n",
    "\n",
    "with tf.GradientTape() as tape:\n",
    "    tape.watch([a, b, c])\n",
    "    y = a * tf.pow(x, 2) + b * x + c\n",
    "    \n",
    "dy_dx, dy_da, dy_db, dy_dc = tape.gradient(y, [x, a, b, c])\n",
    "print(dy_dx, dy_da, dy_db, dy_dc)"
   ]
  },
  {
   "cell_type": "code",
   "execution_count": 9,
   "metadata": {},
   "outputs": [
    {
     "name": "stdout",
     "output_type": "stream",
     "text": [
      "tf.Tensor(2.0, shape=(), dtype=float32)\n"
     ]
    }
   ],
   "source": [
    "# 二阶求导\n",
    "with tf.GradientTape() as tape2:\n",
    "    with tf.GradientTape() as tape1:\n",
    "        y = a * tf.pow(x, 2) + b * x + c \n",
    "    dy_dx = tape1.gradient(y, x)\n",
    "dy2_dx2 = tape2.gradient(dy_dx, x)\n",
    "print(dy2_dx2)"
   ]
  },
  {
   "cell_type": "code",
   "execution_count": 16,
   "metadata": {},
   "outputs": [
    {
     "name": "stdout",
     "output_type": "stream",
     "text": [
      "Tensor(\"AddN:0\", shape=(), dtype=float32)\n",
      "(6, 11)\n",
      "Tensor(\"AddN:0\", shape=(), dtype=float32)\n",
      "(2, 3)\n"
     ]
    }
   ],
   "source": [
    "@tf.function\n",
    "def f(x):\n",
    "    x = tf.constant(x, dtype=tf.float32)\n",
    "    a = tf.constant(1.)\n",
    "    b = tf.constant(2.)\n",
    "    c = tf.constant(3.)\n",
    "    \n",
    "    with tf.GradientTape() as tape:\n",
    "        tape.watch(x)\n",
    "        y = a*tf.pow(x, 2) + b*x + c\n",
    "    dy_dx = tape.gradient(y, x)\n",
    "    print (dy_dx)\n",
    "    return (dy_dx,  y)\n",
    "    \n",
    "tf.print(f(2))\n",
    "tf.print(f(0))"
   ]
  },
  {
   "cell_type": "code",
   "execution_count": 17,
   "metadata": {},
   "outputs": [],
   "source": [
    "def fn1(x: tf.Tensor):\n",
    "    print(type(x))"
   ]
  },
  {
   "cell_type": "code",
   "execution_count": 18,
   "metadata": {},
   "outputs": [
    {
     "name": "stdout",
     "output_type": "stream",
     "text": [
      "<class 'tensorflow.python.framework.ops.EagerTensor'>\n"
     ]
    }
   ],
   "source": [
    "fn1(tf.constant(1))"
   ]
  },
  {
   "cell_type": "code",
   "execution_count": 43,
   "metadata": {},
   "outputs": [
    {
     "name": "stdout",
     "output_type": "stream",
     "text": [
      "========================================\n",
      "1\n",
      "None\n",
      "0\n",
      "None\n",
      "========================================\n",
      "0.0175879598\n",
      "None\n",
      "0.867380381\n",
      "None\n",
      "========================================\n",
      "0.000309348106\n",
      "None\n",
      "0.98241204\n",
      "None\n",
      "========================================\n",
      "5.42402267e-06\n",
      "None\n",
      "0.997667611\n",
      "None\n",
      "========================================\n",
      "1.1920929e-07\n",
      "None\n",
      "0.999690711\n",
      "None\n",
      "========================================\n",
      "0\n",
      "None\n",
      "0.999959\n",
      "None\n",
      "========================================\n",
      "0\n",
      "None\n",
      "0.999994516\n",
      "None\n",
      "========================================\n",
      "0\n",
      "None\n",
      "0.999998569\n",
      "None\n",
      "========================================\n",
      "0\n",
      "None\n",
      "0.999998569\n",
      "None\n",
      "========================================\n",
      "0\n",
      "None\n",
      "0.999998569\n",
      "None\n",
      "y: 0 x: 0.999998569\n"
     ]
    }
   ],
   "source": [
    "x = tf.Variable(0., dtype=tf.float32)\n",
    "a = tf.constant(1.0)\n",
    "b = tf.constant(-2.)\n",
    "c = tf.constant(1.)\n",
    "\n",
    "optim = tf.keras.optimizers.SGD(learning_rate=0.01)\n",
    "for i in range(1000):\n",
    "    with tf.GradientTape() as tape:\n",
    "        y = a * tf.pow(x, 2) + b * x + c\n",
    "    dy_dx = tape.gradient(y, x)\n",
    "    if i%100 == 0:\n",
    "        print('====='*8)\n",
    "        print(tf.print(y))\n",
    "        print(tf.print(x))\n",
    "    optim.apply_gradients(grads_and_vars = [(dy_dx, x)])\n",
    "tf.print(\"y:\", y, 'x:', x)    "
   ]
  },
  {
   "cell_type": "code",
   "execution_count": 45,
   "metadata": {},
   "outputs": [
    {
     "name": "stdout",
     "output_type": "stream",
     "text": [
      "0 0.999998569\n"
     ]
    }
   ],
   "source": [
    "x = tf.Variable(0.0, dtype=tf.float32)\n",
    "\n",
    "def f():\n",
    "    a = tf.constant(1.)\n",
    "    b = tf.constant(-2.)\n",
    "    c = tf.constant(1.)\n",
    "    y = a * tf.pow(x, 2) + b * x + c\n",
    "    return(y)\n",
    "\n",
    "optim = tf.keras.optimizers.SGD(learning_rate=0.01)\n",
    "for _ in range(1000):\n",
    "    optim.minimize(f, [x])\n",
    "\n",
    "tf.print(y, x)"
   ]
  },
  {
   "cell_type": "code",
   "execution_count": 50,
   "metadata": {},
   "outputs": [
    {
     "name": "stdout",
     "output_type": "stream",
     "text": [
      "0\n",
      "0.999998569\n"
     ]
    }
   ],
   "source": [
    "tf.keras.backend.clear_session()\n",
    "\n",
    "x = tf.Variable(0.0, dtype=tf.float32)\n",
    "opt = tf.keras.optimizers.SGD(learning_rate=0.01)\n",
    "\n",
    "@tf.function\n",
    "def minimize():\n",
    "    a = tf.constant(1.)\n",
    "    b = tf.constant(-2.)\n",
    "    c = tf.constant(1.)\n",
    "    \n",
    "    for _ in tf.range(1000):\n",
    "        with tf.GradientTape() as tape:\n",
    "            y = a * tf.pow(x, 2) + b*x + c\n",
    "        dy_dx = tape.gradient(y, x) # x 方式\n",
    "        opt.apply_gradients(grads_and_vars=[(dy_dx, x)])\n",
    "    y = a * tf.pow(x, 2) + b*x + c\n",
    "    return y\n",
    "    \n",
    "tf.print(minimize())\n",
    "tf.print(x)"
   ]
  },
  {
   "cell_type": "code",
   "execution_count": 53,
   "metadata": {},
   "outputs": [
    {
     "name": "stdout",
     "output_type": "stream",
     "text": [
      "0\n",
      "0.999998569\n"
     ]
    }
   ],
   "source": [
    "# 在autograph中完成最小值求解\n",
    "# 使用optimizer.minimize\n",
    "\n",
    "\n",
    "x = tf.Variable(0.0, dtype=tf.float32)\n",
    "opt = tf.keras.optimizers.SGD(learning_rate=.01)\n",
    "\n",
    "@tf.function\n",
    "def f():\n",
    "    a = tf.constant(1.)\n",
    "    b = tf.constant(-2.)\n",
    "    c = tf.constant(1.)\n",
    "    y = a * tf.pow(x, 2) + b * x + c\n",
    "    return(y)\n",
    "\n",
    "\n",
    "@tf.function\n",
    "def train(epoch):\n",
    "    for _ in tf.range(epoch):\n",
    "        opt.minimize(f, [x])\n",
    "    return (f())\n",
    "        \n",
    "tf.print(train(1000))       \n",
    "tf.print(x)       \n",
    "        "
   ]
  },
  {
   "cell_type": "code",
   "execution_count": 54,
   "metadata": {},
   "outputs": [
    {
     "name": "stdout",
     "output_type": "stream",
     "text": [
      "0\n"
     ]
    }
   ],
   "source": [
    "tf.print(a * tf.pow(x, 2) + b*x + c)"
   ]
  },
  {
   "cell_type": "code",
   "execution_count": null,
   "metadata": {},
   "outputs": [],
   "source": []
  }
 ],
 "metadata": {
  "kernelspec": {
   "display_name": "Python 3",
   "language": "python",
   "name": "python3"
  },
  "language_info": {
   "codemirror_mode": {
    "name": "ipython",
    "version": 3
   },
   "file_extension": ".py",
   "mimetype": "text/x-python",
   "name": "python",
   "nbconvert_exporter": "python",
   "pygments_lexer": "ipython3",
   "version": "3.7.3"
  }
 },
 "nbformat": 4,
 "nbformat_minor": 4
}
