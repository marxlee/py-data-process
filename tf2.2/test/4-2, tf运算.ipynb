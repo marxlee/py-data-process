{
 "cells": [
  {
   "cell_type": "code",
   "execution_count": 1,
   "metadata": {},
   "outputs": [],
   "source": [
    "import tensorflow as tf\n",
    "import numpy as np"
   ]
  },
  {
   "cell_type": "code",
   "execution_count": 2,
   "metadata": {},
   "outputs": [],
   "source": [
    "a = tf.constant([1.0,8.0])\n",
    "b = tf.constant([5.0,6.0])\n",
    "c = tf.constant([6.0,7.0])"
   ]
  },
  {
   "cell_type": "code",
   "execution_count": 3,
   "metadata": {},
   "outputs": [
    {
     "name": "stdout",
     "output_type": "stream",
     "text": [
      "[5 8]\n"
     ]
    }
   ],
   "source": [
    "tf.print(tf.maximum(a,b))"
   ]
  },
  {
   "cell_type": "code",
   "execution_count": 4,
   "metadata": {},
   "outputs": [
    {
     "name": "stdout",
     "output_type": "stream",
     "text": [
      "[1 6]\n"
     ]
    }
   ],
   "source": [
    "tf.print(tf.minimum(a,b))"
   ]
  },
  {
   "cell_type": "code",
   "execution_count": 12,
   "metadata": {},
   "outputs": [],
   "source": [
    "x = tf.constant([2.6, 3.14])"
   ]
  },
  {
   "cell_type": "code",
   "execution_count": 14,
   "metadata": {},
   "outputs": [
    {
     "name": "stdout",
     "output_type": "stream",
     "text": [
      "[2.6 3.14]\n",
      "[3 3]\n",
      "[2 3]\n",
      "[3 4]\n"
     ]
    }
   ],
   "source": [
    "tf.print(x)\n",
    "tf.print(tf.math.round(x))\n",
    "tf.print(tf.math.floor(x))\n",
    "tf.print(tf.math.ceil(x))"
   ]
  },
  {
   "cell_type": "code",
   "execution_count": 17,
   "metadata": {},
   "outputs": [
    {
     "name": "stdout",
     "output_type": "stream",
     "text": [
      "[1 3 6 ... 28 36 45]\n",
      "[1 2 6 ... 5040 40320 362880]\n",
      "TensorShape([9])\n"
     ]
    }
   ],
   "source": [
    "#cum扫描累积\n",
    "a = tf.range(1,10)\n",
    "a_t_cs = tf.math.cumsum(a)\n",
    "a_t_cp = tf.math.cumprod(a)\n",
    "tf.print(a_t_cs)\n",
    "tf.print(a_t_cp)\n",
    "tf.print(a_t_cs.shape)"
   ]
  },
  {
   "cell_type": "code",
   "execution_count": 18,
   "metadata": {},
   "outputs": [
    {
     "name": "stdout",
     "output_type": "stream",
     "text": [
      "[9 8 7]\n",
      "[6 5 2]\n"
     ]
    }
   ],
   "source": [
    "#tf.math.top_k可以用于对张量排序\n",
    "a = tf.constant([1,3,7,5,4,8,9])\n",
    "\n",
    "values,indices = tf.math.top_k(a,3,sorted=True)\n",
    "tf.print(values)\n",
    "tf.print(indices)\n",
    "\n",
    "#利用tf.math.top_k可以在TensorFlow中实现KNN算法"
   ]
  },
  {
   "cell_type": "code",
   "execution_count": 19,
   "metadata": {},
   "outputs": [
    {
     "name": "stdout",
     "output_type": "stream",
     "text": [
      "[[0.229847744 -0.88346082]\n",
      " [0.524744868 -0.240782902]\n",
      " [0.819642067 0.401896209]] \n",
      "\n",
      "[9.52551842 0.51429987] \n",
      "\n",
      "[[0.619629562 0.784894466]\n",
      " [0.784894466 -0.619629562]] \n",
      "\n",
      "[[1.00000119 2]\n",
      " [3.00000095 4.00000048]\n",
      " [5.00000143 6.00000095]]\n",
      "[[9.52551842 0]\n",
      " [0 0.51429987]]\n"
     ]
    }
   ],
   "source": [
    "a  = tf.constant([[1.0,2.0],[3.0,4.0],[5.0,6.0]], dtype = tf.float32)\n",
    "s,u,v = tf.linalg.svd(a)\n",
    "tf.print(u,\"\\n\")\n",
    "tf.print(s,\"\\n\")\n",
    "tf.print(v,\"\\n\")\n",
    "tf.print(u@tf.linalg.diag(s)@tf.transpose(v))\n",
    "\n",
    "tf.print(tf.linalg.diag(s))"
   ]
  },
  {
   "cell_type": "code",
   "execution_count": 20,
   "metadata": {},
   "outputs": [],
   "source": [
    "v_a = tf.Variable(1.0)"
   ]
  },
  {
   "cell_type": "code",
   "execution_count": null,
   "metadata": {},
   "outputs": [],
   "source": [
    "v_a."
   ]
  }
 ],
 "metadata": {
  "kernelspec": {
   "display_name": "Python 3",
   "language": "python",
   "name": "python3"
  },
  "language_info": {
   "codemirror_mode": {
    "name": "ipython",
    "version": 3
   },
   "file_extension": ".py",
   "mimetype": "text/x-python",
   "name": "python",
   "nbconvert_exporter": "python",
   "pygments_lexer": "ipython3",
   "version": "3.7.3"
  }
 },
 "nbformat": 4,
 "nbformat_minor": 4
}
