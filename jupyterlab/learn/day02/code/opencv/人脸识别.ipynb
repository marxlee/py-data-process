{
 "cells": [
  {
   "cell_type": "code",
   "execution_count": 1,
   "metadata": {},
   "outputs": [],
   "source": [
    "import numpy as np\n",
    "\n",
    "import cv2"
   ]
  },
  {
   "cell_type": "code",
   "execution_count": 2,
   "metadata": {},
   "outputs": [],
   "source": [
    "jin = cv2.imread('./jin1.jpg')\n",
    "\n",
    "# 人脸数据，级联分类器，给人脸特征数据，返回可以识别人脸的对象\n",
    "detector = cv2.CascadeClassifier('./haarcascade_frontalface_default.xml')"
   ]
  },
  {
   "cell_type": "code",
   "execution_count": 11,
   "metadata": {},
   "outputs": [
    {
     "data": {
      "text/plain": [
       "(2000, 3000, 3)"
      ]
     },
     "execution_count": 11,
     "metadata": {},
     "output_type": "execute_result"
    }
   ],
   "source": [
    "jin.shape"
   ]
  },
  {
   "cell_type": "code",
   "execution_count": 30,
   "metadata": {},
   "outputs": [],
   "source": [
    "jin = cv2.imread('./physic.jpg')\n",
    "\n",
    "# jin = cv2.resize(jin,dsize = (1200,800))\n",
    "\n",
    "# 转化成黑白,尺寸不变的\n",
    "gray = cv2.cvtColor(jin,code = cv2.COLOR_BGR2GRAY)\n",
    "\n",
    "# 人脸数据，级联分类器，给人脸特征数据，返回可以识别人脸的对象\n",
    "detector = cv2.CascadeClassifier('./haarcascade_frontalface_default.xml')\n",
    "\n",
    "face_zone = detector.detectMultiScale(gray,scaleFactor = 1.1,minNeighbors = 5,minSize = (50,50),maxSize = (150,150))\n",
    "face_zone\n",
    "\n",
    "for x,y,w,h in face_zone:\n",
    "#     使用黑白检测，绘制到彩色图片\n",
    "    cv2.rectangle(jin,pt1 = (x,y),pt2 = (x + w,y + h),color = [0,255,0],thickness = 2)\n",
    "    color = np.random.randint(0,256,size = 3)\n",
    "    cv2.circle(jin,center = (x + w//2,y + h//2),radius = w//2,\n",
    "               color = color.tolist(),\n",
    "               thickness = 2)\n",
    "cv2.imshow('jin',jin)\n",
    "\n",
    "cv2.waitKey(0)\n",
    "\n",
    "cv2.destroyAllWindows()"
   ]
  }
 ],
 "metadata": {
  "kernelspec": {
   "display_name": "Python 3",
   "language": "python",
   "name": "python3"
  },
  "language_info": {
   "codemirror_mode": {
    "name": "ipython",
    "version": 3
   },
   "file_extension": ".py",
   "mimetype": "text/x-python",
   "name": "python",
   "nbconvert_exporter": "python",
   "pygments_lexer": "ipython3",
   "version": "3.6.5"
  }
 },
 "nbformat": 4,
 "nbformat_minor": 2
}
