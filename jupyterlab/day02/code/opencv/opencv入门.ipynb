{
 "cells": [
  {
   "cell_type": "code",
   "execution_count": 2,
   "metadata": {},
   "outputs": [],
   "source": [
    "import numpy as np\n",
    "\n",
    "import cv2"
   ]
  },
  {
   "cell_type": "code",
   "execution_count": 3,
   "metadata": {
    "collapsed": true
   },
   "outputs": [
    {
     "data": {
      "text/plain": [
       "array([[[231, 226, 228],\n",
       "        [230, 225, 227],\n",
       "        [230, 225, 227],\n",
       "        ...,\n",
       "        [228, 221, 224],\n",
       "        [229, 222, 225],\n",
       "        [229, 222, 225]],\n",
       "\n",
       "       [[232, 227, 229],\n",
       "        [231, 226, 228],\n",
       "        [231, 226, 228],\n",
       "        ...,\n",
       "        [226, 219, 222],\n",
       "        [227, 220, 223],\n",
       "        [227, 220, 223]],\n",
       "\n",
       "       [[232, 227, 229],\n",
       "        [232, 227, 229],\n",
       "        [231, 226, 228],\n",
       "        ...,\n",
       "        [225, 218, 221],\n",
       "        [225, 218, 221],\n",
       "        [225, 218, 221]],\n",
       "\n",
       "       ...,\n",
       "\n",
       "       [[ 63,  70,  67],\n",
       "        [ 62,  69,  66],\n",
       "        [ 61,  68,  65],\n",
       "        ...,\n",
       "        [ 90,  84,  71],\n",
       "        [ 96,  90,  77],\n",
       "        [ 96,  90,  77]],\n",
       "\n",
       "       [[ 63,  70,  67],\n",
       "        [ 62,  69,  66],\n",
       "        [ 61,  68,  65],\n",
       "        ...,\n",
       "        [ 87,  81,  68],\n",
       "        [ 96,  90,  77],\n",
       "        [ 95,  89,  76]],\n",
       "\n",
       "       [[ 63,  70,  67],\n",
       "        [ 62,  69,  66],\n",
       "        [ 61,  68,  65],\n",
       "        ...,\n",
       "        [ 87,  81,  68],\n",
       "        [ 96,  90,  77],\n",
       "        [ 95,  89,  76]]], dtype=uint8)"
      ]
     },
     "execution_count": 3,
     "metadata": {},
     "output_type": "execute_result"
    }
   ],
   "source": [
    "jin1 = cv2.imread('./jin1.jpg')\n",
    "jin1"
   ]
  },
  {
   "cell_type": "code",
   "execution_count": 3,
   "metadata": {
    "scrolled": true
   },
   "outputs": [
    {
     "data": {
      "text/plain": [
       "(333, 220, 3)"
      ]
     },
     "execution_count": 3,
     "metadata": {},
     "output_type": "execute_result"
    }
   ],
   "source": [
    "jin1.shape"
   ]
  },
  {
   "cell_type": "code",
   "execution_count": 4,
   "metadata": {},
   "outputs": [],
   "source": [
    "cv2.imshow('jin',jin1)\n",
    "\n",
    "# 等待键盘输入，单位毫秒，如果是0，无限等待\n",
    "cv2.waitKey(0)\n",
    "\n",
    "cv2.destroyAllWindows()"
   ]
  },
  {
   "cell_type": "code",
   "execution_count": 5,
   "metadata": {},
   "outputs": [],
   "source": [
    "# BGR 蓝绿红 cv2读取图片，颜色通道是BGR\n",
    "# PIL 读取图片，颜色通道 RGB\n",
    "jin2 = cv2.cvtColor(jin1,code = cv2.COLOR_BGR2GRAY)\n",
    "\n",
    "cv2.imshow('gray',jin2)\n",
    "\n",
    "cv2.waitKey(0)\n",
    "\n",
    "cv2.destroyAllWindows()"
   ]
  },
  {
   "cell_type": "code",
   "execution_count": 14,
   "metadata": {},
   "outputs": [
    {
     "data": {
      "text/plain": [
       "6"
      ]
     },
     "execution_count": 14,
     "metadata": {},
     "output_type": "execute_result"
    }
   ],
   "source": [
    "cv2.COLOR_BGR2GRAY"
   ]
  },
  {
   "cell_type": "code",
   "execution_count": 6,
   "metadata": {},
   "outputs": [
    {
     "data": {
      "text/plain": [
       "True"
      ]
     },
     "execution_count": 6,
     "metadata": {},
     "output_type": "execute_result"
    }
   ],
   "source": [
    "cv2.imwrite('./jin1_gray.jpg',jin2)"
   ]
  },
  {
   "cell_type": "code",
   "execution_count": 7,
   "metadata": {},
   "outputs": [
    {
     "data": {
      "text/plain": [
       "(333, 220, 3)"
      ]
     },
     "execution_count": 7,
     "metadata": {},
     "output_type": "execute_result"
    }
   ],
   "source": [
    "jin1.shape"
   ]
  },
  {
   "cell_type": "code",
   "execution_count": 12,
   "metadata": {},
   "outputs": [
    {
     "data": {
      "text/plain": [
       "65"
      ]
     },
     "execution_count": 12,
     "metadata": {},
     "output_type": "execute_result"
    }
   ],
   "source": [
    "ord('A')"
   ]
  },
  {
   "cell_type": "code",
   "execution_count": 13,
   "metadata": {},
   "outputs": [],
   "source": [
    "jin3 = cv2.resize(jin1,dsize = (440,666))\n",
    "jin3.shape\n",
    "\n",
    "cv2.imshow('gray',jin3)\n",
    "\n",
    "while True:\n",
    "    if ord('q') == cv2.waitKey(1000):\n",
    "        break\n",
    "\n",
    "cv2.destroyAllWindows()"
   ]
  }
 ],
 "metadata": {
  "kernelspec": {
   "display_name": "Python 3",
   "language": "python",
   "name": "python3"
  },
  "language_info": {
   "codemirror_mode": {
    "name": "ipython",
    "version": 3
   },
   "file_extension": ".py",
   "mimetype": "text/x-python",
   "name": "python",
   "nbconvert_exporter": "python",
   "pygments_lexer": "ipython3",
   "version": "3.6.5"
  }
 },
 "nbformat": 4,
 "nbformat_minor": 2
}
