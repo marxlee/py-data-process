{
 "cells": [
  {
   "cell_type": "code",
   "execution_count": 1,
   "metadata": {},
   "outputs": [],
   "source": [
    "import numpy as np\n",
    "\n",
    "import matplotlib.pyplot as plt\n",
    "%matplotlib inline\n",
    "\n",
    "from sklearn.svm import SVC\n",
    "\n",
    "import sklearn.datasets as datasets"
   ]
  },
  {
   "cell_type": "code",
   "execution_count": 2,
   "metadata": {},
   "outputs": [],
   "source": [
    "X,y = datasets.make_blobs(n_samples=50,centers=2)"
   ]
  },
  {
   "cell_type": "code",
   "execution_count": 3,
   "metadata": {
    "scrolled": true
   },
   "outputs": [
    {
     "data": {
      "text/plain": [
       "(50, 2)"
      ]
     },
     "execution_count": 3,
     "metadata": {},
     "output_type": "execute_result"
    }
   ],
   "source": [
    "X.shape"
   ]
  },
  {
   "cell_type": "code",
   "execution_count": 4,
   "metadata": {
    "scrolled": true
   },
   "outputs": [
    {
     "data": {
      "text/plain": [
       "array([0, 1, 1, 1, 0, 0, 0, 0, 0, 1, 0, 0, 1, 1, 0, 1, 0, 1, 0, 0, 1, 1,\n",
       "       0, 0, 1, 0, 1, 0, 1, 1, 1, 0, 1, 1, 1, 1, 0, 0, 1, 1, 0, 0, 0, 1,\n",
       "       1, 0, 0, 0, 1, 1])"
      ]
     },
     "execution_count": 4,
     "metadata": {},
     "output_type": "execute_result"
    }
   ],
   "source": [
    "y"
   ]
  },
  {
   "cell_type": "code",
   "execution_count": 13,
   "metadata": {},
   "outputs": [],
   "source": [
    "from matplotlib.colors import ListedColormap"
   ]
  },
  {
   "cell_type": "code",
   "execution_count": 16,
   "metadata": {},
   "outputs": [],
   "source": [
    "color = ListedColormap([(1.0,0,0),(0,1.0,0)])"
   ]
  },
  {
   "cell_type": "code",
   "execution_count": 21,
   "metadata": {
    "scrolled": false
   },
   "outputs": [
    {
     "data": {
      "text/plain": [
       "<matplotlib.collections.PathCollection at 0x19df6735fd0>"
      ]
     },
     "execution_count": 21,
     "metadata": {},
     "output_type": "execute_result"
    },
    {
     "data": {
      "image/png": "[encoded data removed]",
      "text/plain": [
       "<Figure size 432x288 with 1 Axes>"
      ]
     },
     "metadata": {},
     "output_type": "display_data"
    }
   ],
   "source": [
    "X,y = datasets.make_blobs(n_samples=100,centers=2)\n",
    "\n",
    "plt.scatter(X[:,0],X[:,1],c = y,cmap = color)"
   ]
  },
  {
   "cell_type": "code",
   "execution_count": 22,
   "metadata": {},
   "outputs": [
    {
     "data": {
      "text/plain": [
       "SVC(C=1.0, cache_size=200, class_weight=None, coef0=0.0,\n",
       "  decision_function_shape='ovr', degree=3, gamma='auto', kernel='linear',\n",
       "  max_iter=-1, probability=False, random_state=None, shrinking=True,\n",
       "  tol=0.001, verbose=False)"
      ]
     },
     "execution_count": 22,
     "metadata": {},
     "output_type": "execute_result"
    }
   ],
   "source": [
    "svc = SVC(kernel='linear')\n",
    "\n",
    "svc.fit(X,y)"
   ]
  },
  {
   "cell_type": "code",
   "execution_count": 31,
   "metadata": {
    "scrolled": true
   },
   "outputs": [],
   "source": [
    "w1,w2 = svc.coef_[0]"
   ]
  },
  {
   "cell_type": "code",
   "execution_count": 25,
   "metadata": {},
   "outputs": [],
   "source": [
    "b, = svc.intercept_"
   ]
  },
  {
   "cell_type": "code",
   "execution_count": 36,
   "metadata": {},
   "outputs": [
    {
     "data": {
      "text/plain": [
       "(100, 2)"
      ]
     },
     "execution_count": 36,
     "metadata": {},
     "output_type": "execute_result"
    }
   ],
   "source": [
    "X.shape"
   ]
  },
  {
   "cell_type": "code",
   "execution_count": 34,
   "metadata": {
    "scrolled": true
   },
   "outputs": [
    {
     "data": {
      "text/plain": [
       "-1.7615848954593383"
      ]
     },
     "execution_count": 34,
     "metadata": {},
     "output_type": "execute_result"
    }
   ],
   "source": [
    "f(X) = w1*x1 + w2*x2 + b"
   ]
  },
  {
   "cell_type": "code",
   "execution_count": 38,
   "metadata": {},
   "outputs": [
    {
     "data": {
      "text/plain": [
       "array([-3.34668119, -2.87598024])"
      ]
     },
     "execution_count": 38,
     "metadata": {},
     "output_type": "execute_result"
    }
   ],
   "source": [
    "X[0]"
   ]
  },
  {
   "cell_type": "code",
   "execution_count": 39,
   "metadata": {},
   "outputs": [
    {
     "data": {
      "text/plain": [
       "3.8501397667552957"
      ]
     },
     "execution_count": 39,
     "metadata": {},
     "output_type": "execute_result"
    }
   ],
   "source": [
    "X[0][0]*w1 + X[0][1]*w2 + b"
   ]
  },
  {
   "cell_type": "code",
   "execution_count": 40,
   "metadata": {},
   "outputs": [
    {
     "data": {
      "text/plain": [
       "-3.121471535533634"
      ]
     },
     "execution_count": 40,
     "metadata": {},
     "output_type": "execute_result"
    }
   ],
   "source": [
    "X[5][0]*w1 + X[5][1]*w2 + b"
   ]
  },
  {
   "cell_type": "code",
   "execution_count": 41,
   "metadata": {
    "collapsed": true
   },
   "outputs": [
    {
     "data": {
      "text/plain": [
       "array([ 3.85013977, -4.15593227, -5.20898671, -5.97755032, -0.99999989,\n",
       "       -3.12147154, -3.13072901,  3.02315057,  3.21264777,  4.07299159,\n",
       "       -1.83922509,  3.70636273,  1.28848538, -2.90974165, -2.78174044,\n",
       "        4.17019023,  3.01291402, -5.00707606, -4.49260547, -4.17217184,\n",
       "        3.94624938, -2.50090069, -2.53178319,  3.20512258,  1.67213344,\n",
       "       -3.68005188, -1.85559863, -2.95105695, -4.4769413 ,  5.56956236,\n",
       "        3.54903092,  1.09029696, -3.42482292,  2.89227278, -1.10348556,\n",
       "       -4.79150997, -5.29251654, -2.89844638, -3.88060229,  3.42829007,\n",
       "        3.13718186, -3.28834893,  1.9173498 ,  3.83230858, -3.76385909,\n",
       "       -3.24051216, -2.38981832,  2.55197668,  3.97130392,  3.67590727,\n",
       "        4.1536641 , -4.83578257,  2.37783571, -1.00834138,  5.45484163,\n",
       "       -3.02949561, -3.4438814 , -1.21767164, -4.04693509, -3.49871461,\n",
       "       -3.40812455,  4.43719376, -3.22548139, -2.5011537 , -3.14936384,\n",
       "       -2.67031596,  4.84548086, -4.5937506 ,  1.68006916, -1.93457545,\n",
       "        3.89900169,  3.00985149,  2.58445287,  4.67218468,  2.40960056,\n",
       "        5.31233085,  5.01715946, -2.74165616, -5.73816041, -4.70481715,\n",
       "        3.94689071,  3.82438081,  4.9270908 ,  0.99999997, -2.33142575,\n",
       "        4.10613206,  2.94980022,  4.8285363 ,  4.20071538,  3.39918732,\n",
       "        2.33179487, -5.45845389,  2.293394  ,  3.73073742, -1.57773149,\n",
       "       -4.90480213, -4.58006382,  2.69592817,  3.20945958,  3.80974899])"
      ]
     },
     "execution_count": 41,
     "metadata": {},
     "output_type": "execute_result"
    }
   ],
   "source": [
    "X[:,0]*w1 + X[:,1]*w2 + b"
   ]
  },
  {
   "cell_type": "code",
   "execution_count": null,
   "metadata": {},
   "outputs": [],
   "source": [
    "0 = w1*x + w2*y + b\n",
    "\n",
    "y = -w1/w2*x - b/w2"
   ]
  },
  {
   "cell_type": "code",
   "execution_count": 42,
   "metadata": {},
   "outputs": [],
   "source": [
    "w = -w1/w2\n",
    "\n",
    "b_ = -b/w2"
   ]
  },
  {
   "cell_type": "code",
   "execution_count": 47,
   "metadata": {},
   "outputs": [],
   "source": [
    "support_vectors_ = svc.support_vectors_"
   ]
  },
  {
   "cell_type": "code",
   "execution_count": 52,
   "metadata": {},
   "outputs": [],
   "source": [
    "# 1 = w1*x + w2*y + b\n",
    "\n",
    "# -1 = w1*x + w2*y + b\n",
    "\n",
    "b1 = -(b + 1)/w2\n",
    "\n",
    "b2 = -(b - 1)/w2"
   ]
  },
  {
   "cell_type": "code",
   "execution_count": 53,
   "metadata": {},
   "outputs": [
    {
     "data": {
      "text/plain": [
       "[<matplotlib.lines.Line2D at 0x19df6a1dd30>]"
      ]
     },
     "execution_count": 53,
     "metadata": {},
     "output_type": "execute_result"
    },
    {
     "data": {
      "image/png": "[encoded data removed]",
      "text/plain": [
       "<Figure size 432x288 with 1 Axes>"
      ]
     },
     "metadata": {},
     "output_type": "display_data"
    }
   ],
   "source": [
    "plt.scatter(X[:,0],X[:,1],c = y,cmap = plt.cm.PuOr)\n",
    "\n",
    "x = np.linspace(-2,2,50)\n",
    "\n",
    "plt.plot(x,x*w + b_)\n",
    "\n",
    "plt.scatter(support_vectors_[:,0],support_vectors_[:,1],color = 'purple',s = 300,alpha = 0.3)\n",
    "\n",
    "plt.plot(x,x*w + b1,ls = '--')\n",
    "\n",
    "plt.plot(x,x*w + b2 ,ls = '--')"
   ]
  }
 ],
 "metadata": {
  "kernelspec": {
   "display_name": "Python 3",
   "language": "python",
   "name": "python3"
  },
  "language_info": {
   "codemirror_mode": {
    "name": "ipython",
    "version": 3
   },
   "file_extension": ".py",
   "mimetype": "text/x-python",
   "name": "python",
   "nbconvert_exporter": "python",
   "pygments_lexer": "ipython3",
   "version": "3.6.5"
  }
 },
 "nbformat": 4,
 "nbformat_minor": 2
}
