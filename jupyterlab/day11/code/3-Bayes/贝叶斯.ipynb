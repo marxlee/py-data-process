{
 "cells": [
  {
   "cell_type": "code",
   "execution_count": null,
   "metadata": {},
   "outputs": [],
   "source": [
    "'''一个例子，现分别有 A、B 两个容器，在容器 A 里分别有 7 个红球和 3 个白球，\n",
    "在容器 B 里有 1 个红球和 9 个白球，现已知从这两个容器里任意抽出了一个球，且是红球，\n",
    "问这个红球是来自容器 A 的概率是多少?'''\n",
    "\n",
    "# 取一个球这个球是红球\n",
    "P(B) = 8/20\n",
    "\n",
    "P(A) = 1/2\n",
    "\n",
    "# A容器中选中红球的概率\n",
    "P(B|A) = 7/10\n",
    "\n",
    "P(A|B) = P(A)*P(B|A)/P(B)\n",
    "\n"
   ]
  },
  {
   "cell_type": "code",
   "execution_count": 1,
   "metadata": {},
   "outputs": [
    {
     "data": {
      "text/plain": [
       "0.875"
      ]
     },
     "execution_count": 1,
     "metadata": {},
     "output_type": "execute_result"
    }
   ],
   "source": [
    "1/2*7/10*20/8 = 7/8"
   ]
  },
  {
   "cell_type": "code",
   "execution_count": null,
   "metadata": {},
   "outputs": [],
   "source": [
    "'''例如：一座别墅在过去的 20 年里一共发生过 2 次被盗，别墅的主人有一条狗，\n",
    "狗平均每周晚上叫 3 次，在盗贼入侵时狗叫的概率被估计为 0.9，问题是：在狗叫的时候发生入侵的概率是多少？'''\n",
    "\n",
    "\n",
    "# 贝叶斯公式\n",
    "# 被盗定义成事件B\n",
    "P(B) = 2/(20*365)\n",
    "\n",
    "# 狗叫事件A\n",
    "P(A) = 3/7\n",
    "\n",
    "# 盗贼入侵时狗叫的概率0.9\n",
    "P(A|B) = 0.9\n",
    "\n",
    "# 在狗叫的时候发生入侵的概率是多少？\n",
    "P(B|A) = P(B)*P(A|B)/P(A)\n",
    "\n",
    "# 计算所得概率是0.00058"
   ]
  },
  {
   "cell_type": "code",
   "execution_count": 2,
   "metadata": {
    "scrolled": true
   },
   "outputs": [
    {
     "data": {
      "text/plain": [
       "0.0005753424657534246"
      ]
     },
     "execution_count": 2,
     "metadata": {},
     "output_type": "execute_result"
    }
   ],
   "source": [
    "2/(20*365)*0.9*7/3"
   ]
  },
  {
   "cell_type": "code",
   "execution_count": null,
   "metadata": {},
   "outputs": [],
   "source": [
    "# 独立性假设，假设属性之间没有关系\n",
    "from sklearn.naive_bayes import GaussianNB"
   ]
  }
 ],
 "metadata": {
  "kernelspec": {
   "display_name": "Python 3",
   "language": "python",
   "name": "python3"
  },
  "language_info": {
   "codemirror_mode": {
    "name": "ipython",
    "version": 3
   },
   "file_extension": ".py",
   "mimetype": "text/x-python",
   "name": "python",
   "nbconvert_exporter": "python",
   "pygments_lexer": "ipython3",
   "version": "3.6.5"
  }
 },
 "nbformat": 4,
 "nbformat_minor": 2
}
