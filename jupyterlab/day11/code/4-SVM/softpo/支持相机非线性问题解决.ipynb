{
 "cells": [
  {
   "cell_type": "code",
   "execution_count": 1,
   "metadata": {},
   "outputs": [],
   "source": [
    "import numpy as np\n",
    "\n",
    "import matplotlib.pyplot as plt\n",
    "%matplotlib inline"
   ]
  },
  {
   "cell_type": "code",
   "execution_count": 2,
   "metadata": {},
   "outputs": [],
   "source": [
    "from sklearn.svm import SVR"
   ]
  },
  {
   "cell_type": "code",
   "execution_count": 21,
   "metadata": {},
   "outputs": [
    {
     "data": {
      "text/plain": [
       "(30, 1)"
      ]
     },
     "execution_count": 21,
     "metadata": {},
     "output_type": "execute_result"
    }
   ],
   "source": [
    "X = np.linspace(-5,5,30).reshape(-1,1)\n",
    "X.shape"
   ]
  },
  {
   "cell_type": "code",
   "execution_count": 5,
   "metadata": {
    "collapsed": true
   },
   "outputs": [
    {
     "data": {
      "text/plain": [
       "array([[-5.        ],\n",
       "       [-4.65517241],\n",
       "       [-4.31034483],\n",
       "       [-3.96551724],\n",
       "       [-3.62068966],\n",
       "       [-3.27586207],\n",
       "       [-2.93103448],\n",
       "       [-2.5862069 ],\n",
       "       [-2.24137931],\n",
       "       [-1.89655172],\n",
       "       [-1.55172414],\n",
       "       [-1.20689655],\n",
       "       [-0.86206897],\n",
       "       [-0.51724138],\n",
       "       [-0.17241379],\n",
       "       [ 0.17241379],\n",
       "       [ 0.51724138],\n",
       "       [ 0.86206897],\n",
       "       [ 1.20689655],\n",
       "       [ 1.55172414],\n",
       "       [ 1.89655172],\n",
       "       [ 2.24137931],\n",
       "       [ 2.5862069 ],\n",
       "       [ 2.93103448],\n",
       "       [ 3.27586207],\n",
       "       [ 3.62068966],\n",
       "       [ 3.96551724],\n",
       "       [ 4.31034483],\n",
       "       [ 4.65517241],\n",
       "       [ 5.        ]])"
      ]
     },
     "execution_count": 5,
     "metadata": {},
     "output_type": "execute_result"
    }
   ],
   "source": [
    "X"
   ]
  },
  {
   "cell_type": "code",
   "execution_count": 4,
   "metadata": {
    "collapsed": true
   },
   "outputs": [
    {
     "data": {
      "text/plain": [
       "array([[39.        ],\n",
       "       [34.63614744],\n",
       "       [30.51010702],\n",
       "       [26.62187872],\n",
       "       [22.97146254],\n",
       "       [19.5588585 ],\n",
       "       [16.38406659],\n",
       "       [13.4470868 ],\n",
       "       [10.74791914],\n",
       "       [ 8.28656361],\n",
       "       [ 6.06302021],\n",
       "       [ 4.07728894],\n",
       "       [ 2.3293698 ],\n",
       "       [ 0.81926278],\n",
       "       [-0.4530321 ],\n",
       "       [-1.48751486],\n",
       "       [-2.28418549],\n",
       "       [-2.843044  ],\n",
       "       [-3.16409037],\n",
       "       [-3.24732461],\n",
       "       [-3.09274673],\n",
       "       [-2.70035672],\n",
       "       [-2.07015458],\n",
       "       [-1.20214031],\n",
       "       [-0.09631391],\n",
       "       [ 1.24732461],\n",
       "       [ 2.82877527],\n",
       "       [ 4.64803805],\n",
       "       [ 6.70511296],\n",
       "       [ 9.        ]])"
      ]
     },
     "execution_count": 4,
     "metadata": {},
     "output_type": "execute_result"
    }
   ],
   "source": [
    "y = (X - 3)**2 + 3*X - 10\n",
    "y"
   ]
  },
  {
   "cell_type": "code",
   "execution_count": 22,
   "metadata": {
    "collapsed": true
   },
   "outputs": [
    {
     "data": {
      "text/plain": [
       "array([[35.        ],\n",
       "       [31.6706302 ],\n",
       "       [28.57907253],\n",
       "       [25.72532699],\n",
       "       [23.10939358],\n",
       "       [20.73127229],\n",
       "       [18.59096314],\n",
       "       [16.68846611],\n",
       "       [15.02378121],\n",
       "       [13.59690844],\n",
       "       [12.4078478 ],\n",
       "       [11.45659929],\n",
       "       [10.7431629 ],\n",
       "       [10.26753864],\n",
       "       [10.02972652],\n",
       "       [10.02972652],\n",
       "       [10.26753864],\n",
       "       [10.7431629 ],\n",
       "       [11.45659929],\n",
       "       [12.4078478 ],\n",
       "       [13.59690844],\n",
       "       [15.02378121],\n",
       "       [16.68846611],\n",
       "       [18.59096314],\n",
       "       [20.73127229],\n",
       "       [23.10939358],\n",
       "       [25.72532699],\n",
       "       [28.57907253],\n",
       "       [31.6706302 ],\n",
       "       [35.        ]])"
      ]
     },
     "execution_count": 22,
     "metadata": {},
     "output_type": "execute_result"
    }
   ],
   "source": [
    "y = (X)**2 +10\n",
    "y"
   ]
  },
  {
   "cell_type": "code",
   "execution_count": 6,
   "metadata": {},
   "outputs": [],
   "source": [
    "from sklearn.linear_model import LinearRegression"
   ]
  },
  {
   "cell_type": "code",
   "execution_count": 7,
   "metadata": {},
   "outputs": [
    {
     "data": {
      "text/plain": [
       "LinearRegression(copy_X=True, fit_intercept=True, n_jobs=1, normalize=False)"
      ]
     },
     "execution_count": 7,
     "metadata": {},
     "output_type": "execute_result"
    }
   ],
   "source": [
    "lr = LinearRegression()\n",
    "\n",
    "lr.fit(X,y)"
   ]
  },
  {
   "cell_type": "code",
   "execution_count": 9,
   "metadata": {
    "collapsed": true
   },
   "outputs": [
    {
     "data": {
      "text/plain": [
       "array([[-5.        ],\n",
       "       [-4.92248062],\n",
       "       [-4.84496124],\n",
       "       [-4.76744186],\n",
       "       [-4.68992248],\n",
       "       [-4.6124031 ],\n",
       "       [-4.53488372],\n",
       "       [-4.45736434],\n",
       "       [-4.37984496],\n",
       "       [-4.30232558],\n",
       "       [-4.2248062 ],\n",
       "       [-4.14728682],\n",
       "       [-4.06976744],\n",
       "       [-3.99224806],\n",
       "       [-3.91472868],\n",
       "       [-3.8372093 ],\n",
       "       [-3.75968992],\n",
       "       [-3.68217054],\n",
       "       [-3.60465116],\n",
       "       [-3.52713178],\n",
       "       [-3.4496124 ],\n",
       "       [-3.37209302],\n",
       "       [-3.29457364],\n",
       "       [-3.21705426],\n",
       "       [-3.13953488],\n",
       "       [-3.0620155 ],\n",
       "       [-2.98449612],\n",
       "       [-2.90697674],\n",
       "       [-2.82945736],\n",
       "       [-2.75193798],\n",
       "       [-2.6744186 ],\n",
       "       [-2.59689922],\n",
       "       [-2.51937984],\n",
       "       [-2.44186047],\n",
       "       [-2.36434109],\n",
       "       [-2.28682171],\n",
       "       [-2.20930233],\n",
       "       [-2.13178295],\n",
       "       [-2.05426357],\n",
       "       [-1.97674419],\n",
       "       [-1.89922481],\n",
       "       [-1.82170543],\n",
       "       [-1.74418605],\n",
       "       [-1.66666667],\n",
       "       [-1.58914729],\n",
       "       [-1.51162791],\n",
       "       [-1.43410853],\n",
       "       [-1.35658915],\n",
       "       [-1.27906977],\n",
       "       [-1.20155039],\n",
       "       [-1.12403101],\n",
       "       [-1.04651163],\n",
       "       [-0.96899225],\n",
       "       [-0.89147287],\n",
       "       [-0.81395349],\n",
       "       [-0.73643411],\n",
       "       [-0.65891473],\n",
       "       [-0.58139535],\n",
       "       [-0.50387597],\n",
       "       [-0.42635659],\n",
       "       [-0.34883721],\n",
       "       [-0.27131783],\n",
       "       [-0.19379845],\n",
       "       [-0.11627907],\n",
       "       [-0.03875969],\n",
       "       [ 0.03875969],\n",
       "       [ 0.11627907],\n",
       "       [ 0.19379845],\n",
       "       [ 0.27131783],\n",
       "       [ 0.34883721],\n",
       "       [ 0.42635659],\n",
       "       [ 0.50387597],\n",
       "       [ 0.58139535],\n",
       "       [ 0.65891473],\n",
       "       [ 0.73643411],\n",
       "       [ 0.81395349],\n",
       "       [ 0.89147287],\n",
       "       [ 0.96899225],\n",
       "       [ 1.04651163],\n",
       "       [ 1.12403101],\n",
       "       [ 1.20155039],\n",
       "       [ 1.27906977],\n",
       "       [ 1.35658915],\n",
       "       [ 1.43410853],\n",
       "       [ 1.51162791],\n",
       "       [ 1.58914729],\n",
       "       [ 1.66666667],\n",
       "       [ 1.74418605],\n",
       "       [ 1.82170543],\n",
       "       [ 1.89922481],\n",
       "       [ 1.97674419],\n",
       "       [ 2.05426357],\n",
       "       [ 2.13178295],\n",
       "       [ 2.20930233],\n",
       "       [ 2.28682171],\n",
       "       [ 2.36434109],\n",
       "       [ 2.44186047],\n",
       "       [ 2.51937984],\n",
       "       [ 2.59689922],\n",
       "       [ 2.6744186 ],\n",
       "       [ 2.75193798],\n",
       "       [ 2.82945736],\n",
       "       [ 2.90697674],\n",
       "       [ 2.98449612],\n",
       "       [ 3.0620155 ],\n",
       "       [ 3.13953488],\n",
       "       [ 3.21705426],\n",
       "       [ 3.29457364],\n",
       "       [ 3.37209302],\n",
       "       [ 3.4496124 ],\n",
       "       [ 3.52713178],\n",
       "       [ 3.60465116],\n",
       "       [ 3.68217054],\n",
       "       [ 3.75968992],\n",
       "       [ 3.8372093 ],\n",
       "       [ 3.91472868],\n",
       "       [ 3.99224806],\n",
       "       [ 4.06976744],\n",
       "       [ 4.14728682],\n",
       "       [ 4.2248062 ],\n",
       "       [ 4.30232558],\n",
       "       [ 4.37984496],\n",
       "       [ 4.45736434],\n",
       "       [ 4.53488372],\n",
       "       [ 4.6124031 ],\n",
       "       [ 4.68992248],\n",
       "       [ 4.76744186],\n",
       "       [ 4.84496124],\n",
       "       [ 4.92248062],\n",
       "       [ 5.        ]])"
      ]
     },
     "execution_count": 9,
     "metadata": {},
     "output_type": "execute_result"
    }
   ],
   "source": [
    "X_test = np.linspace(-5,5,130).reshape(-1,1)\n",
    "X_test"
   ]
  },
  {
   "cell_type": "code",
   "execution_count": 10,
   "metadata": {},
   "outputs": [],
   "source": [
    "y_ = lr.predict(X_test)"
   ]
  },
  {
   "cell_type": "code",
   "execution_count": 12,
   "metadata": {
    "collapsed": true
   },
   "outputs": [
    {
     "data": {
      "text/plain": [
       "[<matplotlib.lines.Line2D at 0x20138e43a20>]"
      ]
     },
     "execution_count": 12,
     "metadata": {},
     "output_type": "execute_result"
    },
    {
     "data": {
      "image/png": "[encoded data removed]",
      "text/plain": [
       "<Figure size 432x288 with 1 Axes>"
      ]
     },
     "metadata": {},
     "output_type": "display_data"
    }
   ],
   "source": [
    "plt.scatter(X,y)\n",
    "\n",
    "plt.plot(X_test,y_,c = 'r')"
   ]
  },
  {
   "cell_type": "code",
   "execution_count": null,
   "metadata": {},
   "outputs": [],
   "source": []
  },
  {
   "cell_type": "code",
   "execution_count": 24,
   "metadata": {},
   "outputs": [
    {
     "name": "stderr",
     "output_type": "stream",
     "text": [
      "D:\\Anaconda3.5.2\\lib\\site-packages\\sklearn\\utils\\validation.py:578: DataConversionWarning: A column-vector y was passed when a 1d array was expected. Please change the shape of y to (n_samples, ), for example using ravel().\n",
      "  y = column_or_1d(y, warn=True)\n"
     ]
    }
   ],
   "source": [
    "svr = SVR(kernel='poly',degree=2)\n",
    "\n",
    "svr.fit(X,y)\n",
    "\n",
    "y_ = svr.predict(X_test)"
   ]
  },
  {
   "cell_type": "code",
   "execution_count": 25,
   "metadata": {
    "collapsed": true
   },
   "outputs": [
    {
     "data": {
      "text/plain": [
       "[<matplotlib.lines.Line2D at 0x2013a000e10>]"
      ]
     },
     "execution_count": 25,
     "metadata": {},
     "output_type": "execute_result"
    },
    {
     "data": {
      "image/png": "[encoded data removed]",
      "text/plain": [
       "<Figure size 432x288 with 1 Axes>"
      ]
     },
     "metadata": {},
     "output_type": "display_data"
    }
   ],
   "source": [
    "plt.scatter(X,y)\n",
    "\n",
    "plt.plot(X_test,y_,color= 'green')"
   ]
  },
  {
   "cell_type": "code",
   "execution_count": 26,
   "metadata": {},
   "outputs": [],
   "source": [
    "X = np.linspace(-5,5,300).reshape(-1,1)\n",
    "\n",
    "y = (X - 3)**2 + 3*X - 15\n",
    "\n"
   ]
  },
  {
   "cell_type": "code",
   "execution_count": 27,
   "metadata": {},
   "outputs": [],
   "source": [
    "X_test = np.linspace(0,6,150).reshape(-1,1)"
   ]
  },
  {
   "cell_type": "code",
   "execution_count": 31,
   "metadata": {
    "scrolled": true
   },
   "outputs": [
    {
     "name": "stdout",
     "output_type": "stream",
     "text": [
      "[LibSVM]"
     ]
    },
    {
     "name": "stderr",
     "output_type": "stream",
     "text": [
      "D:\\Anaconda3.5.2\\lib\\site-packages\\sklearn\\utils\\validation.py:578: DataConversionWarning: A column-vector y was passed when a 1d array was expected. Please change the shape of y to (n_samples, ), for example using ravel().\n",
      "  y = column_or_1d(y, warn=True)\n"
     ]
    }
   ],
   "source": [
    "svr = SVR(kernel='poly',degree=2,verbose=True)\n",
    "\n",
    "svr.fit(X,y)\n",
    "\n",
    "y_ = svr.predict(X_test)"
   ]
  },
  {
   "cell_type": "code",
   "execution_count": 32,
   "metadata": {
    "collapsed": true
   },
   "outputs": [
    {
     "data": {
      "text/plain": [
       "[<matplotlib.lines.Line2D at 0x2013a0344e0>]"
      ]
     },
     "execution_count": 32,
     "metadata": {},
     "output_type": "execute_result"
    },
    {
     "data": {
      "image/png": "[encoded data removed]",
      "text/plain": [
       "<Figure size 432x288 with 1 Axes>"
      ]
     },
     "metadata": {},
     "output_type": "display_data"
    }
   ],
   "source": [
    "plt.scatter(X,y)\n",
    "\n",
    "plt.plot(X_test,y_,color = 'green')"
   ]
  },
  {
   "cell_type": "code",
   "execution_count": 38,
   "metadata": {},
   "outputs": [],
   "source": [
    "X = np.linspace(-5,10,30).reshape(-1,1)\n",
    "\n",
    "y = X**3 + X**2 + X + 10\n"
   ]
  },
  {
   "cell_type": "code",
   "execution_count": 40,
   "metadata": {
    "collapsed": true
   },
   "outputs": [
    {
     "name": "stderr",
     "output_type": "stream",
     "text": [
      "D:\\Anaconda3.5.2\\lib\\site-packages\\sklearn\\utils\\validation.py:578: DataConversionWarning: A column-vector y was passed when a 1d array was expected. Please change the shape of y to (n_samples, ), for example using ravel().\n",
      "  y = column_or_1d(y, warn=True)\n"
     ]
    },
    {
     "data": {
      "text/plain": [
       "[<matplotlib.lines.Line2D at 0x2013a1d1e48>]"
      ]
     },
     "execution_count": 40,
     "metadata": {},
     "output_type": "execute_result"
    },
    {
     "data": {
      "image/png": "[encoded data removed]",
      "text/plain": [
       "<Figure size 432x288 with 1 Axes>"
      ]
     },
     "metadata": {},
     "output_type": "display_data"
    }
   ],
   "source": [
    "svr = SVR(kernel='poly',degree=3)\n",
    "\n",
    "svr.fit(X,y)\n",
    "\n",
    "X_test = np.linspace(-10,20,300).reshape(-1,1)\n",
    "\n",
    "y_ = svr.predict(X_test)\n",
    "\n",
    "plt.scatter(X,y)\n",
    "\n",
    "plt.plot(X_test,y_,color = 'green')"
   ]
  },
  {
   "cell_type": "code",
   "execution_count": 41,
   "metadata": {
    "collapsed": true
   },
   "outputs": [
    {
     "data": {
      "text/plain": [
       "array([[-5.        ],\n",
       "       [-4.48275862],\n",
       "       [-3.96551724],\n",
       "       [-3.44827586],\n",
       "       [-2.93103448],\n",
       "       [-2.4137931 ],\n",
       "       [-1.89655172],\n",
       "       [-1.37931034],\n",
       "       [-0.86206897],\n",
       "       [-0.34482759],\n",
       "       [ 0.17241379],\n",
       "       [ 0.68965517],\n",
       "       [ 1.20689655],\n",
       "       [ 1.72413793],\n",
       "       [ 2.24137931],\n",
       "       [ 2.75862069],\n",
       "       [ 3.27586207],\n",
       "       [ 3.79310345],\n",
       "       [ 4.31034483],\n",
       "       [ 4.82758621],\n",
       "       [ 5.34482759],\n",
       "       [ 5.86206897],\n",
       "       [ 6.37931034],\n",
       "       [ 6.89655172],\n",
       "       [ 7.4137931 ],\n",
       "       [ 7.93103448],\n",
       "       [ 8.44827586],\n",
       "       [ 8.96551724],\n",
       "       [ 9.48275862],\n",
       "       [10.        ]])"
      ]
     },
     "execution_count": 41,
     "metadata": {},
     "output_type": "execute_result"
    }
   ],
   "source": [
    "X"
   ]
  },
  {
   "cell_type": "code",
   "execution_count": 42,
   "metadata": {},
   "outputs": [],
   "source": [
    "from sklearn.preprocessing import PolynomialFeatures"
   ]
  },
  {
   "cell_type": "code",
   "execution_count": 43,
   "metadata": {},
   "outputs": [],
   "source": [
    "poly = PolynomialFeatures(degree=3)"
   ]
  },
  {
   "cell_type": "code",
   "execution_count": 44,
   "metadata": {
    "collapsed": true
   },
   "outputs": [
    {
     "data": {
      "text/plain": [
       "array([[ 1.00000000e+00, -5.00000000e+00,  2.50000000e+01,\n",
       "        -1.25000000e+02],\n",
       "       [ 1.00000000e+00, -4.48275862e+00,  2.00951249e+01,\n",
       "        -9.00815942e+01],\n",
       "       [ 1.00000000e+00, -3.96551724e+00,  1.57253270e+01,\n",
       "        -6.23590553e+01],\n",
       "       [ 1.00000000e+00, -3.44827586e+00,  1.18906064e+01,\n",
       "        -4.10020911e+01],\n",
       "       [ 1.00000000e+00, -2.93103448e+00,  8.59096314e+00,\n",
       "        -2.51804092e+01],\n",
       "       [ 1.00000000e+00, -2.41379310e+00,  5.82639715e+00,\n",
       "        -1.40637172e+01],\n",
       "       [ 1.00000000e+00, -1.89655172e+00,  3.59690844e+00,\n",
       "        -6.82172291e+00],\n",
       "       [ 1.00000000e+00, -1.37931034e+00,  1.90249703e+00,\n",
       "        -2.62413383e+00],\n",
       "       [ 1.00000000e+00, -8.62068966e-01,  7.43162901e-01,\n",
       "        -6.40657674e-01],\n",
       "       [ 1.00000000e+00, -3.44827586e-01,  1.18906064e-01,\n",
       "        -4.10020911e-02],\n",
       "       [ 1.00000000e+00,  1.72413793e-01,  2.97265161e-02,\n",
       "         5.12526139e-03],\n",
       "       [ 1.00000000e+00,  6.89655172e-01,  4.75624257e-01,\n",
       "         3.28016729e-01],\n",
       "       [ 1.00000000e+00,  1.20689655e+00,  1.45659929e+00,\n",
       "         1.75796466e+00],\n",
       "       [ 1.00000000e+00,  1.72413793e+00,  2.97265161e+00,\n",
       "         5.12526139e+00],\n",
       "       [ 1.00000000e+00,  2.24137931e+00,  5.02378121e+00,\n",
       "         1.12601993e+01],\n",
       "       [ 1.00000000e+00,  2.75862069e+00,  7.60998811e+00,\n",
       "         2.09930706e+01],\n",
       "       [ 1.00000000e+00,  3.27586207e+00,  1.07312723e+01,\n",
       "         3.51541679e+01],\n",
       "       [ 1.00000000e+00,  3.79310345e+00,  1.43876338e+01,\n",
       "         5.45737833e+01],\n",
       "       [ 1.00000000e+00,  4.31034483e+00,  1.85790725e+01,\n",
       "         8.00822092e+01],\n",
       "       [ 1.00000000e+00,  4.82758621e+00,  2.33055886e+01,\n",
       "         1.12509738e+02],\n",
       "       [ 1.00000000e+00,  5.34482759e+00,  2.85671819e+01,\n",
       "         1.52686662e+02],\n",
       "       [ 1.00000000e+00,  5.86206897e+00,  3.43638526e+01,\n",
       "         2.01443274e+02],\n",
       "       [ 1.00000000e+00,  6.37931034e+00,  4.06956005e+01,\n",
       "         2.59609865e+02],\n",
       "       [ 1.00000000e+00,  6.89655172e+00,  4.75624257e+01,\n",
       "         3.28016729e+02],\n",
       "       [ 1.00000000e+00,  7.41379310e+00,  5.49643282e+01,\n",
       "         4.07494157e+02],\n",
       "       [ 1.00000000e+00,  7.93103448e+00,  6.29013080e+01,\n",
       "         4.98872442e+02],\n",
       "       [ 1.00000000e+00,  8.44827586e+00,  7.13733650e+01,\n",
       "         6.02981877e+02],\n",
       "       [ 1.00000000e+00,  8.96551724e+00,  8.03804994e+01,\n",
       "         7.20652753e+02],\n",
       "       [ 1.00000000e+00,  9.48275862e+00,  8.99227111e+01,\n",
       "         8.52715363e+02],\n",
       "       [ 1.00000000e+00,  1.00000000e+01,  1.00000000e+02,\n",
       "         1.00000000e+03]])"
      ]
     },
     "execution_count": 44,
     "metadata": {},
     "output_type": "execute_result"
    }
   ],
   "source": [
    "# 数据清洗\n",
    "X2 = poly.fit_transform(X)\n",
    "X2"
   ]
  },
  {
   "cell_type": "code",
   "execution_count": 45,
   "metadata": {},
   "outputs": [
    {
     "data": {
      "text/plain": [
       "(30, 4)"
      ]
     },
     "execution_count": 45,
     "metadata": {},
     "output_type": "execute_result"
    }
   ],
   "source": [
    "X2.shape"
   ]
  },
  {
   "cell_type": "code",
   "execution_count": 46,
   "metadata": {},
   "outputs": [
    {
     "data": {
      "text/plain": [
       "LinearRegression(copy_X=True, fit_intercept=True, n_jobs=1, normalize=False)"
      ]
     },
     "execution_count": 46,
     "metadata": {},
     "output_type": "execute_result"
    }
   ],
   "source": [
    "lr = LinearRegression()\n",
    "\n",
    "lr.fit(X2,y)"
   ]
  },
  {
   "cell_type": "code",
   "execution_count": 47,
   "metadata": {
    "collapsed": true
   },
   "outputs": [
    {
     "ename": "ValueError",
     "evalue": "shapes (300,1) and (4,1) not aligned: 1 (dim 1) != 4 (dim 0)",
     "output_type": "error",
     "traceback": [
      "\u001b[1;31m---------------------------------------------------------------------------\u001b[0m",
      "\u001b[1;31mValueError\u001b[0m                                Traceback (most recent call last)",
      "\u001b[1;32m<ipython-input-47-60df9090a9df>\u001b[0m in \u001b[0;36m<module>\u001b[1;34m()\u001b[0m\n\u001b[1;32m----> 1\u001b[1;33m \u001b[0my_\u001b[0m \u001b[1;33m=\u001b[0m \u001b[0mlr\u001b[0m\u001b[1;33m.\u001b[0m\u001b[0mpredict\u001b[0m\u001b[1;33m(\u001b[0m\u001b[0mX_test\u001b[0m\u001b[1;33m)\u001b[0m\u001b[1;33m\u001b[0m\u001b[0m\n\u001b[0m",
      "\u001b[1;32mD:\\Anaconda3.5.2\\lib\\site-packages\\sklearn\\linear_model\\base.py\u001b[0m in \u001b[0;36mpredict\u001b[1;34m(self, X)\u001b[0m\n\u001b[0;32m    254\u001b[0m             \u001b[0mReturns\u001b[0m \u001b[0mpredicted\u001b[0m \u001b[0mvalues\u001b[0m\u001b[1;33m.\u001b[0m\u001b[1;33m\u001b[0m\u001b[0m\n\u001b[0;32m    255\u001b[0m         \"\"\"\n\u001b[1;32m--> 256\u001b[1;33m         \u001b[1;32mreturn\u001b[0m \u001b[0mself\u001b[0m\u001b[1;33m.\u001b[0m\u001b[0m_decision_function\u001b[0m\u001b[1;33m(\u001b[0m\u001b[0mX\u001b[0m\u001b[1;33m)\u001b[0m\u001b[1;33m\u001b[0m\u001b[0m\n\u001b[0m\u001b[0;32m    257\u001b[0m \u001b[1;33m\u001b[0m\u001b[0m\n\u001b[0;32m    258\u001b[0m     \u001b[0m_preprocess_data\u001b[0m \u001b[1;33m=\u001b[0m \u001b[0mstaticmethod\u001b[0m\u001b[1;33m(\u001b[0m\u001b[0m_preprocess_data\u001b[0m\u001b[1;33m)\u001b[0m\u001b[1;33m\u001b[0m\u001b[0m\n",
      "\u001b[1;32mD:\\Anaconda3.5.2\\lib\\site-packages\\sklearn\\linear_model\\base.py\u001b[0m in \u001b[0;36m_decision_function\u001b[1;34m(self, X)\u001b[0m\n\u001b[0;32m    239\u001b[0m         \u001b[0mX\u001b[0m \u001b[1;33m=\u001b[0m \u001b[0mcheck_array\u001b[0m\u001b[1;33m(\u001b[0m\u001b[0mX\u001b[0m\u001b[1;33m,\u001b[0m \u001b[0maccept_sparse\u001b[0m\u001b[1;33m=\u001b[0m\u001b[1;33m[\u001b[0m\u001b[1;34m'csr'\u001b[0m\u001b[1;33m,\u001b[0m \u001b[1;34m'csc'\u001b[0m\u001b[1;33m,\u001b[0m \u001b[1;34m'coo'\u001b[0m\u001b[1;33m]\u001b[0m\u001b[1;33m)\u001b[0m\u001b[1;33m\u001b[0m\u001b[0m\n\u001b[0;32m    240\u001b[0m         return safe_sparse_dot(X, self.coef_.T,\n\u001b[1;32m--> 241\u001b[1;33m                                dense_output=True) + self.intercept_\n\u001b[0m\u001b[0;32m    242\u001b[0m \u001b[1;33m\u001b[0m\u001b[0m\n\u001b[0;32m    243\u001b[0m     \u001b[1;32mdef\u001b[0m \u001b[0mpredict\u001b[0m\u001b[1;33m(\u001b[0m\u001b[0mself\u001b[0m\u001b[1;33m,\u001b[0m \u001b[0mX\u001b[0m\u001b[1;33m)\u001b[0m\u001b[1;33m:\u001b[0m\u001b[1;33m\u001b[0m\u001b[0m\n",
      "\u001b[1;32mD:\\Anaconda3.5.2\\lib\\site-packages\\sklearn\\utils\\extmath.py\u001b[0m in \u001b[0;36msafe_sparse_dot\u001b[1;34m(a, b, dense_output)\u001b[0m\n\u001b[0;32m    138\u001b[0m         \u001b[1;32mreturn\u001b[0m \u001b[0mret\u001b[0m\u001b[1;33m\u001b[0m\u001b[0m\n\u001b[0;32m    139\u001b[0m     \u001b[1;32melse\u001b[0m\u001b[1;33m:\u001b[0m\u001b[1;33m\u001b[0m\u001b[0m\n\u001b[1;32m--> 140\u001b[1;33m         \u001b[1;32mreturn\u001b[0m \u001b[0mnp\u001b[0m\u001b[1;33m.\u001b[0m\u001b[0mdot\u001b[0m\u001b[1;33m(\u001b[0m\u001b[0ma\u001b[0m\u001b[1;33m,\u001b[0m \u001b[0mb\u001b[0m\u001b[1;33m)\u001b[0m\u001b[1;33m\u001b[0m\u001b[0m\n\u001b[0m\u001b[0;32m    141\u001b[0m \u001b[1;33m\u001b[0m\u001b[0m\n\u001b[0;32m    142\u001b[0m \u001b[1;33m\u001b[0m\u001b[0m\n",
      "\u001b[1;31mValueError\u001b[0m: shapes (300,1) and (4,1) not aligned: 1 (dim 1) != 4 (dim 0)"
     ]
    }
   ],
   "source": [
    "y_ = lr.predict(X_test)\n"
   ]
  },
  {
   "cell_type": "code",
   "execution_count": 48,
   "metadata": {
    "collapsed": true
   },
   "outputs": [
    {
     "data": {
      "text/plain": [
       "array([[ 1.00000000e+00, -1.00000000e+01,  1.00000000e+02,\n",
       "        -1.00000000e+03],\n",
       "       [ 1.00000000e+00, -9.89966555e+00,  9.80033780e+01,\n",
       "        -9.70200666e+02],\n",
       "       [ 1.00000000e+00, -9.79933110e+00,  9.60268901e+01,\n",
       "        -9.40999291e+02],\n",
       "       ...,\n",
       "       [ 1.00000000e+00,  1.97993311e+01,  3.92013512e+02,\n",
       "         7.76160532e+03],\n",
       "       [ 1.00000000e+00,  1.98996656e+01,  3.95996689e+02,\n",
       "         7.88020167e+03],\n",
       "       [ 1.00000000e+00,  2.00000000e+01,  4.00000000e+02,\n",
       "         8.00000000e+03]])"
      ]
     },
     "execution_count": 48,
     "metadata": {},
     "output_type": "execute_result"
    }
   ],
   "source": [
    "X_test2 = poly.fit_transform(X_test)\n",
    "X_test2"
   ]
  },
  {
   "cell_type": "code",
   "execution_count": 49,
   "metadata": {},
   "outputs": [],
   "source": [
    "y_ = lr.predict(X_test2)"
   ]
  },
  {
   "cell_type": "code",
   "execution_count": 51,
   "metadata": {},
   "outputs": [
    {
     "data": {
      "text/plain": [
       "[<matplotlib.lines.Line2D at 0x2013a3b5828>]"
      ]
     },
     "execution_count": 51,
     "metadata": {},
     "output_type": "execute_result"
    },
    {
     "data": {
      "image/png": "[encoded data removed]",
      "text/plain": [
       "<Figure size 432x288 with 1 Axes>"
      ]
     },
     "metadata": {},
     "output_type": "display_data"
    }
   ],
   "source": [
    "plt.scatter(X,y)\n",
    "\n",
    "plt.plot(X_test,y_,color = 'green')"
   ]
  }
 ],
 "metadata": {
  "kernelspec": {
   "display_name": "Python 3",
   "language": "python",
   "name": "python3"
  },
  "language_info": {
   "codemirror_mode": {
    "name": "ipython",
    "version": 3
   },
   "file_extension": ".py",
   "mimetype": "text/x-python",
   "name": "python",
   "nbconvert_exporter": "python",
   "pygments_lexer": "ipython3",
   "version": "3.6.5"
  }
 },
 "nbformat": 4,
 "nbformat_minor": 2
}
