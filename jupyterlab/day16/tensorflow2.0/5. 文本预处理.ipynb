{
 "cells": [
  {
   "cell_type": "code",
   "execution_count": 1,
   "metadata": {},
   "outputs": [
    {
     "name": "stdout",
     "output_type": "stream",
     "text": [
      "2.0.0\n"
     ]
    }
   ],
   "source": [
    "from __future__ import absolute_import, division, print_function, unicode_literals\n",
    "\n",
    "import tensorflow as tf\n",
    "from tensorflow import keras\n",
    "\n",
    "import numpy as np\n",
    "\n",
    "print(tf.__version__)"
   ]
  },
  {
   "cell_type": "code",
   "execution_count": 2,
   "metadata": {},
   "outputs": [],
   "source": [
    "imdb = keras.datasets.imdb\n",
    "\n",
    "(train_data, train_labels), (test_data, test_labels) = imdb.load_data(num_words=10000)"
   ]
  },
  {
   "cell_type": "code",
   "execution_count": 3,
   "metadata": {},
   "outputs": [
    {
     "name": "stdout",
     "output_type": "stream",
     "text": [
      "Training entries: 25000, labels: 25000\n"
     ]
    }
   ],
   "source": [
    "print(\"Training entries: {}, labels: {}\".format(len(train_data), len(train_labels)))"
   ]
  },
  {
   "cell_type": "code",
   "execution_count": 4,
   "metadata": {},
   "outputs": [
    {
     "name": "stdout",
     "output_type": "stream",
     "text": [
      "[1, 14, 22, 16, 43, 530, 973, 1622, 1385, 65, 458, 4468, 66, 3941, 4, 173, 36, 256, 5, 25, 100, 43, 838, 112, 50, 670, 2, 9, 35, 480, 284, 5, 150, 4, 172, 112, 167, 2, 336, 385, 39, 4, 172, 4536, 1111, 17, 546, 38, 13, 447, 4, 192, 50, 16, 6, 147, 2025, 19, 14, 22, 4, 1920, 4613, 469, 4, 22, 71, 87, 12, 16, 43, 530, 38, 76, 15, 13, 1247, 4, 22, 17, 515, 17, 12, 16, 626, 18, 2, 5, 62, 386, 12, 8, 316, 8, 106, 5, 4, 2223, 5244, 16, 480, 66, 3785, 33, 4, 130, 12, 16, 38, 619, 5, 25, 124, 51, 36, 135, 48, 25, 1415, 33, 6, 22, 12, 215, 28, 77, 52, 5, 14, 407, 16, 82, 2, 8, 4, 107, 117, 5952, 15, 256, 4, 2, 7, 3766, 5, 723, 36, 71, 43, 530, 476, 26, 400, 317, 46, 7, 4, 2, 1029, 13, 104, 88, 4, 381, 15, 297, 98, 32, 2071, 56, 26, 141, 6, 194, 7486, 18, 4, 226, 22, 21, 134, 476, 26, 480, 5, 144, 30, 5535, 18, 51, 36, 28, 224, 92, 25, 104, 4, 226, 65, 16, 38, 1334, 88, 12, 16, 283, 5, 16, 4472, 113, 103, 32, 15, 16, 5345, 19, 178, 32]\n"
     ]
    }
   ],
   "source": [
    "print(train_data[0])"
   ]
  },
  {
   "cell_type": "code",
   "execution_count": 5,
   "metadata": {},
   "outputs": [
    {
     "data": {
      "text/plain": [
       "(218, 189)"
      ]
     },
     "execution_count": 5,
     "metadata": {},
     "output_type": "execute_result"
    }
   ],
   "source": [
    "len(train_data[0]), len(train_data[1])"
   ]
  },
  {
   "cell_type": "code",
   "execution_count": 6,
   "metadata": {},
   "outputs": [
    {
     "name": "stdout",
     "output_type": "stream",
     "text": [
      "Downloading data from https://storage.googleapis.com/tensorflow/tf-keras-datasets/imdb_word_index.json\n",
      "1646592/1641221 [==============================] - 2s 1us/step\n"
     ]
    }
   ],
   "source": [
    "# 一个映射单词到整数索引的词典\n",
    "word_index = imdb.get_word_index()\n",
    "\n",
    "# 保留第一个索引\n",
    "word_index = {k:(v+3) for k,v in word_index.items()}\n",
    "word_index[\"<PAD>\"] = 0\n",
    "word_index[\"<START>\"] = 1\n",
    "word_index[\"<UNK>\"] = 2  # unknown\n",
    "word_index[\"<UNUSED>\"] = 3\n",
    "\n",
    "reverse_word_index = dict([(value, key) for (key, value) in word_index.items()])\n",
    "\n",
    "def decode_review(text):\n",
    "    return ' '.join([reverse_word_index.get(i, '?') for i in text])"
   ]
  },
  {
   "cell_type": "code",
   "execution_count": 7,
   "metadata": {},
   "outputs": [
    {
     "data": {
      "text/plain": [
       "\"<START> this film was just brilliant casting location scenery story direction everyone's really suited the part they played and you could just imagine being there robert <UNK> is an amazing actor and now the same being director <UNK> father came from the same scottish island as myself so i loved the fact there was a real connection with this film the witty remarks throughout the film were great it was just brilliant so much that i bought the film as soon as it was released for <UNK> and would recommend it to everyone to watch and the fly fishing was amazing really cried at the end it was so sad and you know what they say if you cry at a film it must have been good and this definitely was also <UNK> to the two little boy's that played the <UNK> of norman and paul they were just brilliant children are often left out of the <UNK> list i think because the stars that play them all grown up are such a big profile for the whole film but these children are amazing and should be praised for what they have done don't you think the whole story was so lovely because it was true and was someone's life after all that was shared with us all\""
      ]
     },
     "execution_count": 7,
     "metadata": {},
     "output_type": "execute_result"
    }
   ],
   "source": [
    "decode_review(train_data[0])"
   ]
  },
  {
   "cell_type": "code",
   "execution_count": 8,
   "metadata": {},
   "outputs": [],
   "source": [
    "train_data = keras.preprocessing.sequence.pad_sequences(train_data,\n",
    "                                                        value=word_index[\"<PAD>\"],\n",
    "                                                        padding='post',\n",
    "                                                        maxlen=256)"
   ]
  },
  {
   "cell_type": "code",
   "execution_count": 9,
   "metadata": {},
   "outputs": [],
   "source": [
    "test_data = keras.preprocessing.sequence.pad_sequences(test_data,\n",
    "                                                       value=word_index[\"<PAD>\"],\n",
    "                                                       padding='post',\n",
    "                                                       maxlen=256)"
   ]
  },
  {
   "cell_type": "code",
   "execution_count": 10,
   "metadata": {},
   "outputs": [
    {
     "data": {
      "text/plain": [
       "(256, 256)"
      ]
     },
     "execution_count": 10,
     "metadata": {},
     "output_type": "execute_result"
    }
   ],
   "source": [
    "len(train_data[0]), len(train_data[1])"
   ]
  },
  {
   "cell_type": "code",
   "execution_count": 11,
   "metadata": {},
   "outputs": [
    {
     "name": "stdout",
     "output_type": "stream",
     "text": [
      "[   1   14   22   16   43  530  973 1622 1385   65  458 4468   66 3941\n",
      "    4  173   36  256    5   25  100   43  838  112   50  670    2    9\n",
      "   35  480  284    5  150    4  172  112  167    2  336  385   39    4\n",
      "  172 4536 1111   17  546   38   13  447    4  192   50   16    6  147\n",
      " 2025   19   14   22    4 1920 4613  469    4   22   71   87   12   16\n",
      "   43  530   38   76   15   13 1247    4   22   17  515   17   12   16\n",
      "  626   18    2    5   62  386   12    8  316    8  106    5    4 2223\n",
      " 5244   16  480   66 3785   33    4  130   12   16   38  619    5   25\n",
      "  124   51   36  135   48   25 1415   33    6   22   12  215   28   77\n",
      "   52    5   14  407   16   82    2    8    4  107  117 5952   15  256\n",
      "    4    2    7 3766    5  723   36   71   43  530  476   26  400  317\n",
      "   46    7    4    2 1029   13  104   88    4  381   15  297   98   32\n",
      " 2071   56   26  141    6  194 7486   18    4  226   22   21  134  476\n",
      "   26  480    5  144   30 5535   18   51   36   28  224   92   25  104\n",
      "    4  226   65   16   38 1334   88   12   16  283    5   16 4472  113\n",
      "  103   32   15   16 5345   19  178   32    0    0    0    0    0    0\n",
      "    0    0    0    0    0    0    0    0    0    0    0    0    0    0\n",
      "    0    0    0    0    0    0    0    0    0    0    0    0    0    0\n",
      "    0    0    0    0]\n"
     ]
    }
   ],
   "source": [
    "print(train_data[0])"
   ]
  },
  {
   "cell_type": "code",
   "execution_count": 12,
   "metadata": {},
   "outputs": [
    {
     "name": "stdout",
     "output_type": "stream",
     "text": [
      "Model: \"sequential\"\n",
      "_________________________________________________________________\n",
      "Layer (type)                 Output Shape              Param #   \n",
      "=================================================================\n",
      "embedding (Embedding)        (None, None, 16)          160000    \n",
      "_________________________________________________________________\n",
      "global_average_pooling1d (Gl (None, 16)                0         \n",
      "_________________________________________________________________\n",
      "dense (Dense)                (None, 16)                272       \n",
      "_________________________________________________________________\n",
      "dense_1 (Dense)              (None, 1)                 17        \n",
      "=================================================================\n",
      "Total params: 160,289\n",
      "Trainable params: 160,289\n",
      "Non-trainable params: 0\n",
      "_________________________________________________________________\n"
     ]
    }
   ],
   "source": [
    "# 输入形状是用于电影评论的词汇数目（10,000 词）\n",
    "vocab_size = 10000\n",
    "\n",
    "model = keras.Sequential()\n",
    "model.add(keras.layers.Embedding(vocab_size, 16))\n",
    "model.add(keras.layers.GlobalAveragePooling1D())\n",
    "model.add(keras.layers.Dense(16, activation='relu'))\n",
    "model.add(keras.layers.Dense(1, activation='sigmoid'))\n",
    "\n",
    "model.summary()"
   ]
  },
  {
   "cell_type": "code",
   "execution_count": 13,
   "metadata": {},
   "outputs": [],
   "source": [
    "model.compile(optimizer='adam',\n",
    "              loss='binary_crossentropy',\n",
    "              metrics=['accuracy'])"
   ]
  },
  {
   "cell_type": "code",
   "execution_count": 14,
   "metadata": {},
   "outputs": [],
   "source": [
    "x_val = train_data[:10000]\n",
    "partial_x_train = train_data[10000:]\n",
    "\n",
    "y_val = train_labels[:10000]\n",
    "partial_y_train = train_labels[10000:]"
   ]
  },
  {
   "cell_type": "code",
   "execution_count": 15,
   "metadata": {},
   "outputs": [
    {
     "name": "stdout",
     "output_type": "stream",
     "text": [
      "Train on 15000 samples, validate on 10000 samples\n",
      "Epoch 1/40\n",
      "15000/15000 [==============================] - 1s 60us/sample - loss: 0.6918 - accuracy: 0.5574 - val_loss: 0.6894 - val_accuracy: 0.6091\n",
      "Epoch 2/40\n",
      "15000/15000 [==============================] - 0s 15us/sample - loss: 0.6848 - accuracy: 0.7271 - val_loss: 0.6798 - val_accuracy: 0.7392\n",
      "Epoch 3/40\n",
      "15000/15000 [==============================] - 0s 16us/sample - loss: 0.6702 - accuracy: 0.7589 - val_loss: 0.6622 - val_accuracy: 0.7506\n",
      "Epoch 4/40\n",
      "15000/15000 [==============================] - 0s 15us/sample - loss: 0.6451 - accuracy: 0.7779 - val_loss: 0.6329 - val_accuracy: 0.7758\n",
      "Epoch 5/40\n",
      "15000/15000 [==============================] - 0s 13us/sample - loss: 0.6079 - accuracy: 0.7966 - val_loss: 0.5946 - val_accuracy: 0.7917\n",
      "Epoch 6/40\n",
      "15000/15000 [==============================] - 0s 13us/sample - loss: 0.5624 - accuracy: 0.8187 - val_loss: 0.5506 - val_accuracy: 0.8061\n",
      "Epoch 7/40\n",
      "15000/15000 [==============================] - 0s 13us/sample - loss: 0.5139 - accuracy: 0.8337 - val_loss: 0.5068 - val_accuracy: 0.8200\n",
      "Epoch 8/40\n",
      "15000/15000 [==============================] - 0s 13us/sample - loss: 0.4661 - accuracy: 0.8509 - val_loss: 0.4656 - val_accuracy: 0.8362\n",
      "Epoch 9/40\n",
      "15000/15000 [==============================] - 0s 13us/sample - loss: 0.4228 - accuracy: 0.8655 - val_loss: 0.4304 - val_accuracy: 0.8463\n",
      "Epoch 10/40\n",
      "15000/15000 [==============================] - 0s 13us/sample - loss: 0.3859 - accuracy: 0.8743 - val_loss: 0.4015 - val_accuracy: 0.8546\n",
      "Epoch 11/40\n",
      "15000/15000 [==============================] - 0s 13us/sample - loss: 0.3542 - accuracy: 0.8839 - val_loss: 0.3778 - val_accuracy: 0.8600\n",
      "Epoch 12/40\n",
      "15000/15000 [==============================] - 0s 13us/sample - loss: 0.3279 - accuracy: 0.8915 - val_loss: 0.3596 - val_accuracy: 0.8654\n",
      "Epoch 13/40\n",
      "15000/15000 [==============================] - 0s 13us/sample - loss: 0.3067 - accuracy: 0.8965 - val_loss: 0.3447 - val_accuracy: 0.8694\n",
      "Epoch 14/40\n",
      "15000/15000 [==============================] - 0s 13us/sample - loss: 0.2878 - accuracy: 0.9023 - val_loss: 0.3321 - val_accuracy: 0.8734\n",
      "Epoch 15/40\n",
      "15000/15000 [==============================] - 0s 13us/sample - loss: 0.2700 - accuracy: 0.9078 - val_loss: 0.3223 - val_accuracy: 0.8746\n",
      "Epoch 16/40\n",
      "15000/15000 [==============================] - 0s 13us/sample - loss: 0.2551 - accuracy: 0.9120 - val_loss: 0.3144 - val_accuracy: 0.8763\n",
      "Epoch 17/40\n",
      "15000/15000 [==============================] - 0s 13us/sample - loss: 0.2422 - accuracy: 0.9171 - val_loss: 0.3074 - val_accuracy: 0.8800\n",
      "Epoch 18/40\n",
      "15000/15000 [==============================] - 0s 13us/sample - loss: 0.2297 - accuracy: 0.9211 - val_loss: 0.3020 - val_accuracy: 0.8812\n",
      "Epoch 19/40\n",
      "15000/15000 [==============================] - 0s 13us/sample - loss: 0.2186 - accuracy: 0.9244 - val_loss: 0.2978 - val_accuracy: 0.8804\n",
      "Epoch 20/40\n",
      "15000/15000 [==============================] - 0s 15us/sample - loss: 0.2088 - accuracy: 0.9272 - val_loss: 0.2943 - val_accuracy: 0.8828\n",
      "Epoch 21/40\n",
      "15000/15000 [==============================] - 0s 15us/sample - loss: 0.1987 - accuracy: 0.9328 - val_loss: 0.2914 - val_accuracy: 0.8835\n",
      "Epoch 22/40\n",
      "15000/15000 [==============================] - 0s 14us/sample - loss: 0.1902 - accuracy: 0.9355 - val_loss: 0.2897 - val_accuracy: 0.8832\n",
      "Epoch 23/40\n",
      "15000/15000 [==============================] - 0s 14us/sample - loss: 0.1819 - accuracy: 0.9401 - val_loss: 0.2874 - val_accuracy: 0.8848\n",
      "Epoch 24/40\n",
      "15000/15000 [==============================] - 0s 16us/sample - loss: 0.1741 - accuracy: 0.9443 - val_loss: 0.2859 - val_accuracy: 0.8851\n",
      "Epoch 25/40\n",
      "15000/15000 [==============================] - 0s 15us/sample - loss: 0.1669 - accuracy: 0.9475 - val_loss: 0.2858 - val_accuracy: 0.8848\n",
      "Epoch 26/40\n",
      "15000/15000 [==============================] - 0s 16us/sample - loss: 0.1599 - accuracy: 0.9510 - val_loss: 0.2856 - val_accuracy: 0.8847\n",
      "Epoch 27/40\n",
      "15000/15000 [==============================] - 0s 14us/sample - loss: 0.1534 - accuracy: 0.9529 - val_loss: 0.2851 - val_accuracy: 0.8853\n",
      "Epoch 28/40\n",
      "15000/15000 [==============================] - 0s 17us/sample - loss: 0.1473 - accuracy: 0.9552 - val_loss: 0.2854 - val_accuracy: 0.8864\n",
      "Epoch 29/40\n",
      "15000/15000 [==============================] - 0s 15us/sample - loss: 0.1415 - accuracy: 0.9584 - val_loss: 0.2870 - val_accuracy: 0.8863\n",
      "Epoch 30/40\n",
      "15000/15000 [==============================] - 0s 14us/sample - loss: 0.1356 - accuracy: 0.9609 - val_loss: 0.2873 - val_accuracy: 0.8863\n",
      "Epoch 31/40\n",
      "15000/15000 [==============================] - 0s 16us/sample - loss: 0.1305 - accuracy: 0.9617 - val_loss: 0.2894 - val_accuracy: 0.8860\n",
      "Epoch 32/40\n",
      "15000/15000 [==============================] - 0s 16us/sample - loss: 0.1259 - accuracy: 0.9631 - val_loss: 0.2904 - val_accuracy: 0.8862\n",
      "Epoch 33/40\n",
      "15000/15000 [==============================] - 0s 16us/sample - loss: 0.1206 - accuracy: 0.9663 - val_loss: 0.2928 - val_accuracy: 0.8848\n",
      "Epoch 34/40\n",
      "15000/15000 [==============================] - 0s 16us/sample - loss: 0.1157 - accuracy: 0.9679 - val_loss: 0.2942 - val_accuracy: 0.8865\n",
      "Epoch 35/40\n",
      "15000/15000 [==============================] - 0s 14us/sample - loss: 0.1112 - accuracy: 0.9699 - val_loss: 0.2961 - val_accuracy: 0.8846\n",
      "Epoch 36/40\n",
      "15000/15000 [==============================] - 0s 14us/sample - loss: 0.1073 - accuracy: 0.9706 - val_loss: 0.2990 - val_accuracy: 0.8841\n",
      "Epoch 37/40\n",
      "15000/15000 [==============================] - 0s 15us/sample - loss: 0.1030 - accuracy: 0.9722 - val_loss: 0.3021 - val_accuracy: 0.8836\n",
      "Epoch 38/40\n",
      "15000/15000 [==============================] - 0s 15us/sample - loss: 0.0991 - accuracy: 0.9737 - val_loss: 0.3050 - val_accuracy: 0.8833\n",
      "Epoch 39/40\n",
      "15000/15000 [==============================] - 0s 14us/sample - loss: 0.0955 - accuracy: 0.9752 - val_loss: 0.3073 - val_accuracy: 0.8833\n",
      "Epoch 40/40\n",
      "15000/15000 [==============================] - 0s 16us/sample - loss: 0.0918 - accuracy: 0.9763 - val_loss: 0.3103 - val_accuracy: 0.8830\n"
     ]
    }
   ],
   "source": [
    "history = model.fit(partial_x_train,\n",
    "                    partial_y_train,\n",
    "                    epochs=40,\n",
    "                    batch_size=512,\n",
    "                    validation_data=(x_val, y_val),\n",
    "                    verbose=1)"
   ]
  },
  {
   "cell_type": "code",
   "execution_count": 16,
   "metadata": {},
   "outputs": [
    {
     "name": "stdout",
     "output_type": "stream",
     "text": [
      "25000/1 - 1s - loss: 0.3314 - accuracy: 0.8716\n",
      "[0.33166001611709595, 0.87156]\n"
     ]
    }
   ],
   "source": [
    "results = model.evaluate(test_data,  test_labels, verbose=2)\n",
    "\n",
    "print(results)"
   ]
  },
  {
   "cell_type": "code",
   "execution_count": 17,
   "metadata": {},
   "outputs": [
    {
     "data": {
      "text/plain": [
       "dict_keys(['loss', 'accuracy', 'val_loss', 'val_accuracy'])"
      ]
     },
     "execution_count": 17,
     "metadata": {},
     "output_type": "execute_result"
    }
   ],
   "source": [
    "history_dict = history.history\n",
    "history_dict.keys()"
   ]
  },
  {
   "cell_type": "code",
   "execution_count": 20,
   "metadata": {},
   "outputs": [],
   "source": [
    "import matplotlib.pyplot as plt\n",
    "%matplotlib inline"
   ]
  },
  {
   "cell_type": "code",
   "execution_count": 20,
   "metadata": {},
   "outputs": [
    {
     "data": {
      "image/png": "[encoded data removed]",
      "text/plain": [
       "<Figure size 432x288 with 1 Axes>"
      ]
     },
     "metadata": {
      "needs_background": "light"
     },
     "output_type": "display_data"
    }
   ],
   "source": [
    "acc = history_dict['accuracy']\n",
    "val_acc = history_dict['val_accuracy']\n",
    "loss = history_dict['loss']\n",
    "val_loss = history_dict['val_loss']\n",
    "\n",
    "epochs = range(1, len(acc) + 1)\n",
    "\n",
    "# “bo”代表 \"蓝点\"\n",
    "plt.plot(epochs, loss, 'bo', label='Training loss')\n",
    "# b代表“蓝色实线”\n",
    "plt.plot(epochs, val_loss, 'b', label='Validation loss')\n",
    "plt.title('Training and validation loss')\n",
    "plt.xlabel('Epochs')\n",
    "plt.ylabel('Loss')\n",
    "plt.legend()\n",
    "\n",
    "plt.show()"
   ]
  },
  {
   "cell_type": "code",
   "execution_count": 21,
   "metadata": {},
   "outputs": [
    {
     "data": {
      "image/png": "[encoded data removed]",
      "text/plain": [
       "<Figure size 432x288 with 1 Axes>"
      ]
     },
     "metadata": {
      "needs_background": "light"
     },
     "output_type": "display_data"
    }
   ],
   "source": [
    "plt.clf()   # 清除数字\n",
    "\n",
    "plt.plot(epochs, acc, 'bo', label='Training acc')\n",
    "plt.plot(epochs, val_acc, 'b', label='Validation acc')\n",
    "plt.title('Training and validation accuracy')\n",
    "plt.xlabel('Epochs')\n",
    "plt.ylabel('Accuracy')\n",
    "plt.legend()\n",
    "\n",
    "plt.show()"
   ]
  },
  {
   "cell_type": "code",
   "execution_count": null,
   "metadata": {},
   "outputs": [],
   "source": []
  }
 ],
 "metadata": {
  "kernelspec": {
   "display_name": "Python 3",
   "language": "python",
   "name": "python3"
  },
  "language_info": {
   "codemirror_mode": {
    "name": "ipython",
    "version": 3
   },
   "file_extension": ".py",
   "mimetype": "text/x-python",
   "name": "python",
   "nbconvert_exporter": "python",
   "pygments_lexer": "ipython3",
   "version": "3.7.3"
  }
 },
 "nbformat": 4,
 "nbformat_minor": 4
}
