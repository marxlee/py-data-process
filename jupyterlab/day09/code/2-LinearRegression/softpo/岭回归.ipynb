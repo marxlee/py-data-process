{
 "cells": [
  {
   "cell_type": "code",
   "execution_count": 1,
   "metadata": {},
   "outputs": [],
   "source": [
    "import numpy as np\n",
    "\n",
    "from sklearn.linear_model import LinearRegression,Ridge\n",
    "\n",
    "import sklearn.datasets as datasets"
   ]
  },
  {
   "cell_type": "code",
   "execution_count": 10,
   "metadata": {
    "collapsed": true,
    "jupyter": {
     "outputs_hidden": true
    }
   },
   "outputs": [
    {
     "data": {
      "text/plain": [
       "{'data': array([[6.3200e-03, 1.8000e+01, 2.3100e+00, ..., 1.5300e+01, 3.9690e+02,\n",
       "         4.9800e+00],\n",
       "        [2.7310e-02, 0.0000e+00, 7.0700e+00, ..., 1.7800e+01, 3.9690e+02,\n",
       "         9.1400e+00],\n",
       "        [2.7290e-02, 0.0000e+00, 7.0700e+00, ..., 1.7800e+01, 3.9283e+02,\n",
       "         4.0300e+00],\n",
       "        ...,\n",
       "        [6.0760e-02, 0.0000e+00, 1.1930e+01, ..., 2.1000e+01, 3.9690e+02,\n",
       "         5.6400e+00],\n",
       "        [1.0959e-01, 0.0000e+00, 1.1930e+01, ..., 2.1000e+01, 3.9345e+02,\n",
       "         6.4800e+00],\n",
       "        [4.7410e-02, 0.0000e+00, 1.1930e+01, ..., 2.1000e+01, 3.9690e+02,\n",
       "         7.8800e+00]]),\n",
       " 'target': array([24. , 21.6, 34.7, 33.4, 36.2, 28.7, 22.9, 27.1, 16.5, 18.9, 15. ,\n",
       "        18.9, 21.7, 20.4, 18.2, 19.9, 23.1, 17.5, 20.2, 18.2, 13.6, 19.6,\n",
       "        15.2, 14.5, 15.6, 13.9, 16.6, 14.8, 18.4, 21. , 12.7, 14.5, 13.2,\n",
       "        13.1, 13.5, 18.9, 20. , 21. , 24.7, 30.8, 34.9, 26.6, 25.3, 24.7,\n",
       "        21.2, 19.3, 20. , 16.6, 14.4, 19.4, 19.7, 20.5, 25. , 23.4, 18.9,\n",
       "        35.4, 24.7, 31.6, 23.3, 19.6, 18.7, 16. , 22.2, 25. , 33. , 23.5,\n",
       "        19.4, 22. , 17.4, 20.9, 24.2, 21.7, 22.8, 23.4, 24.1, 21.4, 20. ,\n",
       "        20.8, 21.2, 20.3, 28. , 23.9, 24.8, 22.9, 23.9, 26.6, 22.5, 22.2,\n",
       "        23.6, 28.7, 22.6, 22. , 22.9, 25. , 20.6, 28.4, 21.4, 38.7, 43.8,\n",
       "        33.2, 27.5, 26.5, 18.6, 19.3, 20.1, 19.5, 19.5, 20.4, 19.8, 19.4,\n",
       "        21.7, 22.8, 18.8, 18.7, 18.5, 18.3, 21.2, 19.2, 20.4, 19.3, 22. ,\n",
       "        20.3, 20.5, 17.3, 18.8, 21.4, 15.7, 16.2, 18. , 14.3, 19.2, 19.6,\n",
       "        23. , 18.4, 15.6, 18.1, 17.4, 17.1, 13.3, 17.8, 14. , 14.4, 13.4,\n",
       "        15.6, 11.8, 13.8, 15.6, 14.6, 17.8, 15.4, 21.5, 19.6, 15.3, 19.4,\n",
       "        17. , 15.6, 13.1, 41.3, 24.3, 23.3, 27. , 50. , 50. , 50. , 22.7,\n",
       "        25. , 50. , 23.8, 23.8, 22.3, 17.4, 19.1, 23.1, 23.6, 22.6, 29.4,\n",
       "        23.2, 24.6, 29.9, 37.2, 39.8, 36.2, 37.9, 32.5, 26.4, 29.6, 50. ,\n",
       "        32. , 29.8, 34.9, 37. , 30.5, 36.4, 31.1, 29.1, 50. , 33.3, 30.3,\n",
       "        34.6, 34.9, 32.9, 24.1, 42.3, 48.5, 50. , 22.6, 24.4, 22.5, 24.4,\n",
       "        20. , 21.7, 19.3, 22.4, 28.1, 23.7, 25. , 23.3, 28.7, 21.5, 23. ,\n",
       "        26.7, 21.7, 27.5, 30.1, 44.8, 50. , 37.6, 31.6, 46.7, 31.5, 24.3,\n",
       "        31.7, 41.7, 48.3, 29. , 24. , 25.1, 31.5, 23.7, 23.3, 22. , 20.1,\n",
       "        22.2, 23.7, 17.6, 18.5, 24.3, 20.5, 24.5, 26.2, 24.4, 24.8, 29.6,\n",
       "        42.8, 21.9, 20.9, 44. , 50. , 36. , 30.1, 33.8, 43.1, 48.8, 31. ,\n",
       "        36.5, 22.8, 30.7, 50. , 43.5, 20.7, 21.1, 25.2, 24.4, 35.2, 32.4,\n",
       "        32. , 33.2, 33.1, 29.1, 35.1, 45.4, 35.4, 46. , 50. , 32.2, 22. ,\n",
       "        20.1, 23.2, 22.3, 24.8, 28.5, 37.3, 27.9, 23.9, 21.7, 28.6, 27.1,\n",
       "        20.3, 22.5, 29. , 24.8, 22. , 26.4, 33.1, 36.1, 28.4, 33.4, 28.2,\n",
       "        22.8, 20.3, 16.1, 22.1, 19.4, 21.6, 23.8, 16.2, 17.8, 19.8, 23.1,\n",
       "        21. , 23.8, 23.1, 20.4, 18.5, 25. , 24.6, 23. , 22.2, 19.3, 22.6,\n",
       "        19.8, 17.1, 19.4, 22.2, 20.7, 21.1, 19.5, 18.5, 20.6, 19. , 18.7,\n",
       "        32.7, 16.5, 23.9, 31.2, 17.5, 17.2, 23.1, 24.5, 26.6, 22.9, 24.1,\n",
       "        18.6, 30.1, 18.2, 20.6, 17.8, 21.7, 22.7, 22.6, 25. , 19.9, 20.8,\n",
       "        16.8, 21.9, 27.5, 21.9, 23.1, 50. , 50. , 50. , 50. , 50. , 13.8,\n",
       "        13.8, 15. , 13.9, 13.3, 13.1, 10.2, 10.4, 10.9, 11.3, 12.3,  8.8,\n",
       "         7.2, 10.5,  7.4, 10.2, 11.5, 15.1, 23.2,  9.7, 13.8, 12.7, 13.1,\n",
       "        12.5,  8.5,  5. ,  6.3,  5.6,  7.2, 12.1,  8.3,  8.5,  5. , 11.9,\n",
       "        27.9, 17.2, 27.5, 15. , 17.2, 17.9, 16.3,  7. ,  7.2,  7.5, 10.4,\n",
       "         8.8,  8.4, 16.7, 14.2, 20.8, 13.4, 11.7,  8.3, 10.2, 10.9, 11. ,\n",
       "         9.5, 14.5, 14.1, 16.1, 14.3, 11.7, 13.4,  9.6,  8.7,  8.4, 12.8,\n",
       "        10.5, 17.1, 18.4, 15.4, 10.8, 11.8, 14.9, 12.6, 14.1, 13. , 13.4,\n",
       "        15.2, 16.1, 17.8, 14.9, 14.1, 12.7, 13.5, 14.9, 20. , 16.4, 17.7,\n",
       "        19.5, 20.2, 21.4, 19.9, 19. , 19.1, 19.1, 20.1, 19.9, 19.6, 23.2,\n",
       "        29.8, 13.8, 13.3, 16.7, 12. , 14.6, 21.4, 23. , 23.7, 25. , 21.8,\n",
       "        20.6, 21.2, 19.1, 20.6, 15.2,  7. ,  8.1, 13.6, 20.1, 21.8, 24.5,\n",
       "        23.1, 19.7, 18.3, 21.2, 17.5, 16.8, 22.4, 20.6, 23.9, 22. , 11.9]),\n",
       " 'feature_names': array(['CRIM', 'ZN', 'INDUS', 'CHAS', 'NOX', 'RM', 'AGE', 'DIS', 'RAD',\n",
       "        'TAX', 'PTRATIO', 'B', 'LSTAT'], dtype='<U7'),\n",
       " 'DESCR': \".. _boston_dataset:\\n\\nBoston house prices dataset\\n---------------------------\\n\\n**Data Set Characteristics:**  \\n\\n    :Number of Instances: 506 \\n\\n    :Number of Attributes: 13 numeric/categorical predictive. Median Value (attribute 14) is usually the target.\\n\\n    :Attribute Information (in order):\\n        - CRIM     per capita crime rate by town\\n        - ZN       proportion of residential land zoned for lots over 25,000 sq.ft.\\n        - INDUS    proportion of non-retail business acres per town\\n        - CHAS     Charles River dummy variable (= 1 if tract bounds river; 0 otherwise)\\n        - NOX      nitric oxides concentration (parts per 10 million)\\n        - RM       average number of rooms per dwelling\\n        - AGE      proportion of owner-occupied units built prior to 1940\\n        - DIS      weighted distances to five Boston employment centres\\n        - RAD      index of accessibility to radial highways\\n        - TAX      full-value property-tax rate per $10,000\\n        - PTRATIO  pupil-teacher ratio by town\\n        - B        1000(Bk - 0.63)^2 where Bk is the proportion of blacks by town\\n        - LSTAT    % lower status of the population\\n        - MEDV     Median value of owner-occupied homes in $1000's\\n\\n    :Missing Attribute Values: None\\n\\n    :Creator: Harrison, D. and Rubinfeld, D.L.\\n\\nThis is a copy of UCI ML housing dataset.\\nhttps://archive.ics.uci.edu/ml/machine-learning-databases/housing/\\n\\n\\nThis dataset was taken from the StatLib library which is maintained at Carnegie Mellon University.\\n\\nThe Boston house-price data of Harrison, D. and Rubinfeld, D.L. 'Hedonic\\nprices and the demand for clean air', J. Environ. Economics & Management,\\nvol.5, 81-102, 1978.   Used in Belsley, Kuh & Welsch, 'Regression diagnostics\\n...', Wiley, 1980.   N.B. Various transformations are used in the table on\\npages 244-261 of the latter.\\n\\nThe Boston house-price data has been used in many machine learning papers that address regression\\nproblems.   \\n     \\n.. topic:: References\\n\\n   - Belsley, Kuh & Welsch, 'Regression diagnostics: Identifying Influential Data and Sources of Collinearity', Wiley, 1980. 244-261.\\n   - Quinlan,R. (1993). Combining Instance-Based and Model-Based Learning. In Proceedings on the Tenth International Conference of Machine Learning, 236-243, University of Massachusetts, Amherst. Morgan Kaufmann.\\n\",\n",
       " 'filename': '/Users/libinbin/App_out_file/Anaconda3.7/anaconda3/lib/python3.7/site-packages/sklearn/datasets/data/boston_house_prices.csv'}"
      ]
     },
     "execution_count": 10,
     "metadata": {},
     "output_type": "execute_result"
    }
   ],
   "source": [
    "boston = datasets.load_boston()\n",
    "boston"
   ]
  },
  {
   "cell_type": "code",
   "execution_count": 6,
   "metadata": {},
   "outputs": [],
   "source": [
    "X = boston['data']\n",
    "y = boston['target']"
   ]
  },
  {
   "cell_type": "code",
   "execution_count": 7,
   "metadata": {},
   "outputs": [],
   "source": [
    "from sklearn.model_selection import train_test_split"
   ]
  },
  {
   "cell_type": "code",
   "execution_count": 8,
   "metadata": {},
   "outputs": [],
   "source": [
    "X_train,X_test,y_train,y_test = train_test_split(X,y,test_size = 0.2)"
   ]
  },
  {
   "cell_type": "code",
   "execution_count": 9,
   "metadata": {},
   "outputs": [
    {
     "data": {
      "text/plain": [
       "array([-8.38277682e-02,  4.59740290e-02,  4.66667002e-03,  2.18814354e+00,\n",
       "       -1.42750499e+01,  4.26938390e+00, -4.70727210e-03, -1.32277902e+00,\n",
       "        2.41598043e-01, -1.13274835e-02, -8.43684862e-01,  1.01011084e-02,\n",
       "       -4.76321275e-01])"
      ]
     },
     "metadata": {},
     "output_type": "display_data"
    },
    {
     "data": {
      "text/plain": [
       "0.6686155295103839"
      ]
     },
     "metadata": {},
     "output_type": "display_data"
    }
   ],
   "source": [
    "lr = LinearRegression()\n",
    "\n",
    "lr.fit(X_train,y_train)\n",
    "\n",
    "\n",
    "display(lr.coef_,lr.score(X_test,y_test))"
   ]
  },
  {
   "cell_type": "code",
   "execution_count": 11,
   "metadata": {},
   "outputs": [
    {
     "data": {
      "text/plain": [
       "array([ 9.08, 28.46, 19.04, 25.13, 30.96, 23.79, 27.24, 31.65, 30.05,\n",
       "       11.61, 16.18, 26.44, 24.69, 35.47, 29.8 , 25.26, 33.45, 37.33,\n",
       "       17.33, 14.37, 27.84, 22.02, 25.47, 24.84, 12.68, 19.03, 19.24,\n",
       "       17.7 , 16.25, 24.3 , 12.52, 23.91, 17.74, 19.83, 18.34, 23.01,\n",
       "        8.82, 31.89, 13.42, 22.71, 28.3 , 20.2 , 17.13, 15.49, 23.86,\n",
       "       21.99, 16.75,  7.08, 23.62, 15.71, 11.82, 16.22, 32.  , 12.9 ,\n",
       "       23.92, 24.75, 19.7 , 18.06, 17.77, 17.82, 18.09, 25.14, 30.59,\n",
       "       22.24, 21.31, 41.22, 22.08, 25.17, 17.54, 21.64, 18.92, 26.33,\n",
       "       32.96, 39.54, 34.28, 28.18, 18.41, 16.44, 25.1 , 27.9 , 30.77,\n",
       "       21.77, 34.15, 11.04, 16.99, 18.77, 22.07, 10.16, 12.13, 20.26,\n",
       "       36.05, 35.41, 18.9 , 16.33, 17.59, 36.85, 40.82, 13.02, 19.42,\n",
       "       21.24, 22.59, 12.35])"
      ]
     },
     "execution_count": 11,
     "metadata": {},
     "output_type": "execute_result"
    }
   ],
   "source": [
    "lr.predict(X_test).round(2)"
   ]
  },
  {
   "cell_type": "code",
   "execution_count": 12,
   "metadata": {},
   "outputs": [
    {
     "data": {
      "text/plain": [
       "(404, 13)"
      ]
     },
     "execution_count": 12,
     "metadata": {},
     "output_type": "execute_result"
    }
   ],
   "source": [
    "X_train.shape"
   ]
  },
  {
   "cell_type": "code",
   "execution_count": 13,
   "metadata": {},
   "outputs": [
    {
     "data": {
      "text/plain": [
       "array([-8.38277682e-02,  4.59740290e-02,  4.66667002e-03,  2.18814354e+00,\n",
       "       -1.42750499e+01,  4.26938390e+00, -4.70727210e-03, -1.32277902e+00,\n",
       "        2.41598043e-01, -1.13274835e-02, -8.43684862e-01,  1.01011084e-02,\n",
       "       -4.76321275e-01])"
      ]
     },
     "metadata": {},
     "output_type": "display_data"
    },
    {
     "data": {
      "text/plain": [
       "0.6686155295103837"
      ]
     },
     "metadata": {},
     "output_type": "display_data"
    }
   ],
   "source": [
    "# precision 精度\n",
    "# tol tolerate  容忍的误差是多少\n",
    "ridge = Ridge(alpha=0)\n",
    "\n",
    "ridge.fit(X_train,y_train)\n",
    "\n",
    "display(ridge.coef_,ridge.score(X_test,y_test))"
   ]
  },
  {
   "cell_type": "code",
   "execution_count": 14,
   "metadata": {},
   "outputs": [
    {
     "data": {
      "text/plain": [
       "array([ 9.08, 28.46, 19.04, 25.13, 30.96, 23.79, 27.24, 31.65, 30.05,\n",
       "       11.61, 16.18, 26.44, 24.69, 35.47, 29.8 , 25.26, 33.45, 37.33,\n",
       "       17.33, 14.37, 27.84, 22.02, 25.47, 24.84, 12.68, 19.03, 19.24,\n",
       "       17.7 , 16.25, 24.3 , 12.52, 23.91, 17.74, 19.83, 18.34, 23.01,\n",
       "        8.82, 31.89, 13.42, 22.71, 28.3 , 20.2 , 17.13, 15.49, 23.86,\n",
       "       21.99, 16.75,  7.08, 23.62, 15.71, 11.82, 16.22, 32.  , 12.9 ,\n",
       "       23.92, 24.75, 19.7 , 18.06, 17.77, 17.82, 18.09, 25.14, 30.59,\n",
       "       22.24, 21.31, 41.22, 22.08, 25.17, 17.54, 21.64, 18.92, 26.33,\n",
       "       32.96, 39.54, 34.28, 28.18, 18.41, 16.44, 25.1 , 27.9 , 30.77,\n",
       "       21.77, 34.15, 11.04, 16.99, 18.77, 22.07, 10.16, 12.13, 20.26,\n",
       "       36.05, 35.41, 18.9 , 16.33, 17.59, 36.85, 40.82, 13.02, 19.42,\n",
       "       21.24, 22.59, 12.35])"
      ]
     },
     "execution_count": 14,
     "metadata": {},
     "output_type": "execute_result"
    }
   ],
   "source": [
    "ridge.predict(X_test).round(2)"
   ]
  },
  {
   "cell_type": "code",
   "execution_count": 15,
   "metadata": {},
   "outputs": [
    {
     "data": {
      "text/plain": [
       "array([-0.08086944,  0.04728778, -0.02324714,  1.99953473, -7.72850445,\n",
       "        4.28262265, -0.01015596, -1.23221856,  0.22423816, -0.01174322,\n",
       "       -0.77890996,  0.01045068, -0.48568531])"
      ]
     },
     "metadata": {},
     "output_type": "display_data"
    },
    {
     "data": {
      "text/plain": [
       "0.6595616955319366"
      ]
     },
     "metadata": {},
     "output_type": "display_data"
    }
   ],
   "source": [
    "# precision 精度\n",
    "# tol tolerate  容忍的误差是多少\n",
    "ridge = Ridge(alpha=1)\n",
    "\n",
    "ridge.fit(X_train,y_train)\n",
    "\n",
    "display(ridge.coef_,ridge.score(X_test,y_test))"
   ]
  },
  {
   "cell_type": "code",
   "execution_count": 16,
   "metadata": {},
   "outputs": [
    {
     "data": {
      "text/plain": [
       "array([10.20936262, 28.04116678, 19.11846047, 25.35085399, 30.56107823,\n",
       "       24.1177503 , 27.1591202 , 31.95843371, 29.92871809, 11.47352193,\n",
       "       16.39048451, 26.58274104, 24.55305695, 35.61237797, 30.06943125,\n",
       "       25.54138053, 33.27550298, 37.09905372, 17.5963718 , 14.6422733 ,\n",
       "       28.16284795, 21.56897603, 25.24567052, 24.70259446, 12.71850114,\n",
       "       19.27640622, 19.28642282, 17.68466588, 15.53853476, 24.33984134,\n",
       "       12.00052352, 23.3679289 , 17.80105774, 19.65777806, 18.651813  ,\n",
       "       22.37656014,  8.41580023, 31.62279809, 13.27634048, 22.84336266,\n",
       "       28.36707599, 20.09104012, 16.90726616, 15.71610282, 23.55922898,\n",
       "       22.07757059, 16.76485028,  6.83897467, 23.51755348, 16.89227267,\n",
       "       11.49431443, 16.39909539, 31.95337666, 13.28236334, 23.35435767,\n",
       "       24.65825452, 20.13572112, 19.33154578, 17.48477512, 17.83151219,\n",
       "       18.14518768, 25.12191338, 30.54238973, 22.71389586, 21.72349628,\n",
       "       40.79483294, 23.18009493, 24.96978521, 17.19337648, 21.52615093,\n",
       "       19.71224923, 26.18286438, 32.99659864, 39.12529925, 33.96426097,\n",
       "       27.78481651, 18.69261123, 15.74146357, 25.31278743, 27.70459152,\n",
       "       30.72090571, 21.3807473 , 33.95402151, 10.44374939, 17.22994339,\n",
       "       18.64621863, 21.8524902 , 11.32592822, 12.3290265 , 20.35841977,\n",
       "       36.38509523, 35.78945296, 18.75733579, 15.90558329, 17.86541271,\n",
       "       36.58053873, 40.72800902, 12.34214965, 19.68891802, 21.11097076,\n",
       "       22.02473409, 12.63700044])"
      ]
     },
     "execution_count": 16,
     "metadata": {},
     "output_type": "execute_result"
    }
   ],
   "source": [
    "ridge.predict(X_test)"
   ]
  },
  {
   "cell_type": "code",
   "execution_count": 17,
   "metadata": {},
   "outputs": [
    {
     "data": {
      "text/plain": [
       "array([11.8, 22.9, 12.5, 24.8, 50. , 23. , 36.2, 35.4, 23.5, 23.7, 10.4,\n",
       "       22.1, 24. , 46.7, 24. , 24.7, 37.9, 37.6, 14.1, 21.9, 24.5, 20.3,\n",
       "       22.2, 22.9, 12.3, 18.3, 18. , 17.8, 20. , 22.6, 13.4, 21.7,  7.2,\n",
       "       19.4, 16.1, 21.7, 23.1, 29.8,  7.5, 20.4, 22.8, 13.3, 19.4, 14.1,\n",
       "       50. , 20.9, 17.8, 11.9, 24.4, 15.6, 16.5, 13.4, 29. , 12.8, 21.5,\n",
       "       23.9, 20.4, 19.6, 22.5, 18.7, 12.1, 28.1, 34.7, 20.6, 19. , 50. ,\n",
       "       17. , 24.2, 20.8, 21.2, 22.6, 22.8, 31.6, 46. , 34.9, 28.6, 18.2,\n",
       "       17.2, 25. , 28.7, 37. , 17.4, 33.1, 16.3, 23.2, 20.6, 20.3, 17.8,\n",
       "       12.7, 19.2, 36. , 36.5, 27.9, 17.3, 14.2, 50. , 50. , 17.2, 18.2,\n",
       "       19.7, 23. , 13.5])"
      ]
     },
     "execution_count": 17,
     "metadata": {},
     "output_type": "execute_result"
    }
   ],
   "source": [
    "y_test"
   ]
  },
  {
   "cell_type": "code",
   "execution_count": null,
   "metadata": {},
   "outputs": [],
   "source": []
  }
 ],
 "metadata": {
  "kernelspec": {
   "display_name": "Python 3",
   "language": "python",
   "name": "python3"
  },
  "language_info": {
   "codemirror_mode": {
    "name": "ipython",
    "version": 3
   },
   "file_extension": ".py",
   "mimetype": "text/x-python",
   "name": "python",
   "nbconvert_exporter": "python",
   "pygments_lexer": "ipython3",
   "version": "3.7.3"
  }
 },
 "nbformat": 4,
 "nbformat_minor": 4
}
